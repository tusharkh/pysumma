{
 "cells": [
  {
   "cell_type": "code",
   "execution_count": 7,
   "metadata": {},
   "outputs": [],
   "source": [
    "import summa_plot as sp\n",
    "import pysumma.Simulation\n",
    "import importlib\n",
    "import time\n",
    "import pandas as pd\n",
    "importlib.reload(pysumma.Simulation)\n",
    "\n",
    "sites = ['Amplero', 'Blodgett', 'Bugac', 'ElSaler', 'ElSaler2', 'Espirra', 'FortPeck', \n",
    "         'Harvard', 'Hesse', 'Howard', 'Howlandm', 'Hyytiala', 'Kruger', 'Loobos', 'Merbleue',\n",
    "         'Mopane', 'Palang', 'Sylvania', 'Tumba', 'UniMich']\n",
    "fman_template = \"/pool0/data/tushark/PLUMBER_data/sites/{}/settings/summa_zFileManager_{}.txt\"\n",
    "fman_dict = {s: fman_template.format(s, s) for s in sites}\n",
    "\n",
    "def run_summa(site):\n",
    "    s = pysumma.Simulation.Simulation(fman_dict[site])\n",
    "    #s.decision_obj.stomResist.value = 'simpleResistance'\n",
    "    # s.decision_obj.groundwatr = 'noXplict'\n",
    "    #s.decision_obj.bcLowrSoiH.value = 'zeroFlux'\n",
    "    #s.decision_obj.__dict__['rootProfil'].value = 'powerLaw'\n",
    "    #s.decision_obj.__dict__['hc_profile'].value = 'pow_prof'\n",
    "    set_decision(s, 'groundwatr', 'qTopmodl')\n",
    "    set_decision(s, 'bcLowrSoiH', 'zeroFlux')\n",
    "    set_decision(s, 'f_Richards', 'mixdform')\n",
    "    set_decision(s, 'rootProfil', 'powerLaw')\n",
    "    set_decision(s, 'hc_profile', 'pow_prof')\n",
    "    s.executable = '/opt/local/bin/summa.exe'\n",
    "    s.library_path = '/opt/local/lib:/opt/local/lib64:$LD_LIBRARY_PATH'\n",
    "    additional_args = ['export OMP_NUM_THREADS=8']\n",
    "    return s.execute('test_simpleResistance_2', 'local', additional_args)\n",
    "\n",
    "def monitor(proc):\n",
    "    while proc.poll() is not None:\n",
    "        time.sleep(1)\n",
    "    return proc.stdout.read(), proc.stderr.read()\n",
    "\n",
    "def set_decision(simulation, decision_key, decision_value):\n",
    "    simulation.decision_obj.__dict__[decision_key].value = decision_value\n",
    "    "
   ]
  },
  {
   "cell_type": "code",
   "execution_count": 8,
   "metadata": {},
   "outputs": [
    {
     "name": "stdout",
     "output_type": "stream",
     "text": [
      "export LD_LIBRARY_PATH=\"/opt/local/lib:/opt/local/lib64:$LD_LIBRARY_PATH\" && export OMP_NUM_THREADS=8\n",
      "export LD_LIBRARY_PATH=\"/opt/local/lib:/opt/local/lib64:$LD_LIBRARY_PATH\" && export OMP_NUM_THREADS=8 && /opt/local/bin/summa.exe -p never -s test_simpleResistance_2 -m /pool0/data/tushark/PLUMBER_data/sites/Bugac/settings/summa_zFileManager_Bugac.txt\n"
     ]
    }
   ],
   "source": [
    "proc, out_file = run_summa('Bugac')\n",
    "out, err = monitor(proc)"
   ]
  },
  {
   "cell_type": "code",
   "execution_count": 9,
   "metadata": {},
   "outputs": [
    {
     "data": {
      "text/plain": [
       "b\"file_suffix is 'test_simpleResistance_2'.\\nfile_master is '/pool0/data/tushark/PLUMBER_data/sites/Bugac/settings/summa_zFileManager_Bugac.txt'.\\nstart at 14:54:14\\nName of Model Output control file: /data/tushark/PLUMBER_data/sites/Bugac/settings/meta/summa_zModelOutput.txt\\ndecisions file =  /data/tushark/PLUMBER_data/sites/Bugac/settings/summa_zDecisions_Bugac.txt\\n   1 simulStart: 2003-01-01 00:30\\n   2 simulFinsh: 2007-01-01 00:00\\n   3 soilCatTbl: ROSETTA\\n   4 vegeParTbl: USGS\\n   5 soilStress: NoahType\\n   6 stomResist: simpleResistance\\n   7 bbTempFunc: q10Func\\n   8 bbHumdFunc: humidLeafSurface\\n   9 bbElecFunc: linear\\n  10 bbCO2point: origBWB\\n  11 bbNumerics: NoahMPsolution\\n  12 bbAssimFnc: minFunc\\n  13 bbCanIntg8: constantScaling\\n  14 num_method: itertive\\n  15 fDerivMeth: analytic\\n  16 LAI_method: monTable\\n  17 cIntercept: storageFunc\\n  18 f_Richards: mixdform\\n  19 groundwatr: qTopmodl\\n  20 hc_profile: pow_prof\\n  21 bcUpprTdyn: nrg_flux\\n  22 bcLowrTdyn: presTemp\\n  23 bcUpprSoiH: liq_flux\\n  24 bcLowrSoiH: zeroFlux\\n  25 veg_traits: CM_QJRMS1988\\n  26 rootProfil: powerLaw\\n  27 canopyEmis: difTrans\\n  28 snowIncept: lightSnow\\n  29 windPrfile: logBelowCanopy\\n  30 astability: louisinv\\n  31 canopySrad: CLM_2stream\\n  32 alb_method: varDecay\\n  33 compaction: anderson\\n  34 snowLayers: CLM_2010\\n  35 thCondSnow: jrdn1991\\n  36 thCondSoil: funcSoilWet\\n  37 spatial_gw: localColumn\\n  38 subRouting: timeDlay\\nstartTime: iyyy, im, id, ih, imin = 2003  1  1  0 30\\nfinshTime: iyyy, im, id, ih, imin = 2007  1  1  0  0\\n/data/tushark/PLUMBER_data/sites/Bugac/settings/summa_zLocalParamInfo.txt\\n/data/tushark/PLUMBER_data/sites/Bugac/settings/summa_zBasinParamInfo.txt\\nSkipping over SLTYPE = STAS\\nSkipping over SLTYPE = STAS-RUC\\n hruIndex\\n frozenPrecipMultip\\n heightCanopyTop\\n heightCanopyBottom\\n critSoilWilting\\n critSoilTranspire\\n theta_res\\n theta_sat\\n theta_mp\\n fieldCapacity\\n k_soil\\n k_macropore\\n lowerBoundTemp\\nCreated output file:/data/tushark/PLUMBER_data/sites/Bugac/summa_output/Bugac_output_test_simpleResistance_2_timestep.nc\\n\\ninitial date/time = 2018-04-30  14:54:14.822\\n  final date/time = 2018-04-30  14:55:11.045\\n\\n     elapsed init =   8.3000000E-02 s\\n    fraction init =   1.4762642E-03 s\\n\\n     elapsed read =    10.32000     s\\n    fraction read =   0.1835548     s\\n\\n    elapsed write =    11.66600     s\\n   fraction write =   0.2074952     s\\n\\n  elapsed physics =    33.94800     s\\n fraction physics =   0.6038098     s\\n\\n     elapsed time =    56.22300     s\\n       or             0.9370500     m\\n       or             1.5617500E-02 h\\n       or             6.5072917E-04 d\\n\\n   number threads =          8\\n\\n FORTRAN STOP: finished simulation successfully.\\n\""
      ]
     },
     "execution_count": 9,
     "metadata": {},
     "output_type": "execute_result"
    }
   ],
   "source": [
    "out"
   ]
  },
  {
   "cell_type": "code",
   "execution_count": 4,
   "metadata": {},
   "outputs": [
    {
     "data": {
      "text/plain": [
       "b'Note: The following floating-point exceptions are signalling: IEEE_INVALID_FLAG\\nSTOP 1\\n'"
      ]
     },
     "execution_count": 4,
     "metadata": {},
     "output_type": "execute_result"
    }
   ],
   "source": [
    "err"
   ]
  },
  {
   "cell_type": "code",
   "execution_count": null,
   "metadata": {},
   "outputs": [],
   "source": []
  },
  {
   "cell_type": "code",
   "execution_count": null,
   "metadata": {},
   "outputs": [],
   "source": []
  },
  {
   "cell_type": "code",
   "execution_count": null,
   "metadata": {},
   "outputs": [],
   "source": []
  },
  {
   "cell_type": "code",
   "execution_count": null,
   "metadata": {},
   "outputs": [],
   "source": []
  },
  {
   "cell_type": "code",
   "execution_count": null,
   "metadata": {},
   "outputs": [],
   "source": []
  },
  {
   "cell_type": "code",
   "execution_count": 5,
   "metadata": {},
   "outputs": [],
   "source": [
    "def run_summa2(site):\n",
    "    s = pysumma.Simulation.Simulation(fman_dict[site])\n",
    "    s.decision_obj.stomResist.value = 'simpleResistance'\n",
    "    # s.decision_obj.groundwatr.value = 'qTopmodl'\n",
    "    s.decision_obj.hc_profile.value = 'constant'\n",
    "    s.executable = '/opt/local/bin/summa.exe'\n",
    "    s.library_path = '/opt/local/lib:/opt/local/lib64:$LD_LIBRARY_PATH'\n",
    "    additional_args = ['export OMP_NUM_THREADS=8']\n",
    "    return s.execute('test_simpleResistance_3', 'local', additional_args)"
   ]
  },
  {
   "cell_type": "code",
   "execution_count": null,
   "metadata": {},
   "outputs": [
    {
     "name": "stdout",
     "output_type": "stream",
     "text": [
      "export LD_LIBRARY_PATH=\"/opt/local/lib:/opt/local/lib64:$LD_LIBRARY_PATH\" && export OMP_NUM_THREADS=8\n",
      "export LD_LIBRARY_PATH=\"/opt/local/lib:/opt/local/lib64:$LD_LIBRARY_PATH\" && export OMP_NUM_THREADS=8 && /opt/local/bin/summa.exe -p never -s test_simpleResistance_3 -m /pool0/data/tushark/PLUMBER_data/sites/Bugac/settings/summa_zFileManager_Bugac.txt\n"
     ]
    }
   ],
   "source": [
    "proc2, out_file2 = run_summa2('Bugac')\n",
    "out2, err2 = monitor(proc)"
   ]
  },
  {
   "cell_type": "code",
   "execution_count": null,
   "metadata": {},
   "outputs": [],
   "source": []
  },
  {
   "cell_type": "code",
   "execution_count": 2,
   "metadata": {},
   "outputs": [],
   "source": [
    "def run_combinations(dataframe, sites):\n",
    "    '''\n",
    "    This function takes a dataframe with summa\n",
    "    decision points as column names, and with each\n",
    "    row representing a summa run with the appropriate\n",
    "    decision options\n",
    "    It also takes an array_like object sites which just\n",
    "    lists the names of the sites for which each summa\n",
    "    combination should be run at.\n",
    "    '''\n",
    "    result = []\n",
    "    name_template = \"run1_index{}\"\n",
    "    \n",
    "    # assuming we want to run all sites\n",
    "    # another option would be to have a column in the \n",
    "    # dataframe representing the site for each run\n",
    "    for site in sites:\n",
    "        \n",
    "        # set up a simulation object for the site\n",
    "        s = pysumma.Simulation.Simulation(fman_dict[site])\n",
    "        s.executable = '/opt/local/bin/summa.exe'\n",
    "        s.library_path = '/opt/local/lib:/opt/local/lib64:$LD_LIBRARY_PATH'\n",
    "        additional_args = ['export OMP_NUM_THREADS=8']\n",
    "        \n",
    "        # for each option combination, set the appropriate\n",
    "        # values in the decision object, then run\n",
    "        for index in dataframe.index.values:\n",
    "            for decision in dataframe.columns.values:\n",
    "                \n",
    "                print(index, decision, dataframe[decision][index])\n",
    "                s.decision_obj.__dict__[decision].value = dataframe[decision][index]\n",
    "                \n",
    "            # need naming convention for output files\n",
    "            #name = name_template.format(index)\n",
    "            proc, out_file = s.execute('test_run_4', 'local', additional_args)\n",
    "            out, err = monitor(proc)\n",
    "            result.append(out_file)\n",
    "    \n",
    "    return result\n",
    "                "
   ]
  },
  {
   "cell_type": "code",
   "execution_count": 16,
   "metadata": {},
   "outputs": [],
   "source": [
    "def run_combinations2(dataframe, sites):\n",
    "    '''\n",
    "    This function takes a dataframe with summa\n",
    "    decision points as column names, and with each\n",
    "    row representing a summa run with the appropriate\n",
    "    decision options\n",
    "    It also takes an array_like object sites which just\n",
    "    lists the names of the sites for which each summa\n",
    "    combination should be run at.\n",
    "    '''\n",
    "    result = []\n",
    "    name_template = \"run1_index{}\"\n",
    "    \n",
    "    # assuming we want to run all sites\n",
    "    # another option would be to have a column in the \n",
    "    # dataframe representing the site for each run\n",
    "    for site in sites:\n",
    "        \n",
    "        # for each option combination, set the appropriate\n",
    "        # values in the decision object, then run\n",
    "        for index in dataframe.index.values:\n",
    "            \n",
    "            # set up a simulation object for the site\n",
    "            s = pysumma.Simulation.Simulation(fman_dict[site])\n",
    "            s.executable = '/opt/local/bin/summa.exe'\n",
    "            s.library_path = '/opt/local/lib:/opt/local/lib64:$LD_LIBRARY_PATH'\n",
    "            additional_args = ['export OMP_NUM_THREADS=8']\n",
    "            \n",
    "            for decision in dataframe.columns.values:\n",
    "                \n",
    "                print(index, decision, dataframe[decision][index])\n",
    "                s.decision_obj.__dict__[decision].value = dataframe[decision][index]\n",
    "                \n",
    "            # need naming convention for output files\n",
    "            #name = name_template.format(index)\n",
    "            proc, out_file = s.execute('test_run_5', 'local', additional_args)\n",
    "            out, err = monitor(proc)\n",
    "            result.append(out_file)\n",
    "    \n",
    "    return result\n",
    "                "
   ]
  },
  {
   "cell_type": "code",
   "execution_count": 3,
   "metadata": {},
   "outputs": [],
   "source": [
    "df = pd.DataFrame(columns=['stomResist'])\n",
    "df1 = pd.DataFrame(columns=['stomResist', 'groundwatr', 'hc_profile'])"
   ]
  },
  {
   "cell_type": "code",
   "execution_count": 4,
   "metadata": {},
   "outputs": [
    {
     "data": {
      "text/html": [
       "<div>\n",
       "<style scoped>\n",
       "    .dataframe tbody tr th:only-of-type {\n",
       "        vertical-align: middle;\n",
       "    }\n",
       "\n",
       "    .dataframe tbody tr th {\n",
       "        vertical-align: top;\n",
       "    }\n",
       "\n",
       "    .dataframe thead th {\n",
       "        text-align: right;\n",
       "    }\n",
       "</style>\n",
       "<table border=\"1\" class=\"dataframe\">\n",
       "  <thead>\n",
       "    <tr style=\"text-align: right;\">\n",
       "      <th></th>\n",
       "      <th>stomResist</th>\n",
       "    </tr>\n",
       "  </thead>\n",
       "  <tbody>\n",
       "    <tr>\n",
       "      <th>0</th>\n",
       "      <td>Jarvis</td>\n",
       "    </tr>\n",
       "  </tbody>\n",
       "</table>\n",
       "</div>"
      ],
      "text/plain": [
       "  stomResist\n",
       "0     Jarvis"
      ]
     },
     "execution_count": 4,
     "metadata": {},
     "output_type": "execute_result"
    }
   ],
   "source": [
    "dict2 = {'stomResist':'Jarvis'}\n",
    "df3 = df.append(dict2, ignore_index=True)\n",
    "df3"
   ]
  },
  {
   "cell_type": "code",
   "execution_count": 5,
   "metadata": {},
   "outputs": [
    {
     "data": {
      "text/html": [
       "<div>\n",
       "<style scoped>\n",
       "    .dataframe tbody tr th:only-of-type {\n",
       "        vertical-align: middle;\n",
       "    }\n",
       "\n",
       "    .dataframe tbody tr th {\n",
       "        vertical-align: top;\n",
       "    }\n",
       "\n",
       "    .dataframe thead th {\n",
       "        text-align: right;\n",
       "    }\n",
       "</style>\n",
       "<table border=\"1\" class=\"dataframe\">\n",
       "  <thead>\n",
       "    <tr style=\"text-align: right;\">\n",
       "      <th></th>\n",
       "      <th>stomResist</th>\n",
       "      <th>groundwatr</th>\n",
       "      <th>hc_profile</th>\n",
       "    </tr>\n",
       "  </thead>\n",
       "  <tbody>\n",
       "    <tr>\n",
       "      <th>0</th>\n",
       "      <td>Jarvis</td>\n",
       "      <td>qTopmodl</td>\n",
       "      <td>constant</td>\n",
       "    </tr>\n",
       "  </tbody>\n",
       "</table>\n",
       "</div>"
      ],
      "text/plain": [
       "  stomResist groundwatr hc_profile\n",
       "0     Jarvis   qTopmodl   constant"
      ]
     },
     "execution_count": 5,
     "metadata": {},
     "output_type": "execute_result"
    }
   ],
   "source": [
    "dict1 = {'stomResist':'Jarvis', 'groundwatr':'qTopmodl', 'hc_profile':'constant'}\n",
    "dicts = [{'stomResist':'Jarvis', 'groundwatr':'qTopmodl', 'hc_profile':'constant'},\n",
    "         {'stomResist':'BallBerry', 'groundwatr':'qTopmodl', 'hc_profile':'pow_prof'},\n",
    "         {'stomResist':'simpleResistance', 'groundwatr':'qTopmodl', 'hc_profile':'constant'}]\n",
    "df2 = df1.append(dict1, ignore_index=True)\n",
    "df2"
   ]
  },
  {
   "cell_type": "code",
   "execution_count": 6,
   "metadata": {},
   "outputs": [
    {
     "data": {
      "text/html": [
       "<div>\n",
       "<style scoped>\n",
       "    .dataframe tbody tr th:only-of-type {\n",
       "        vertical-align: middle;\n",
       "    }\n",
       "\n",
       "    .dataframe tbody tr th {\n",
       "        vertical-align: top;\n",
       "    }\n",
       "\n",
       "    .dataframe thead th {\n",
       "        text-align: right;\n",
       "    }\n",
       "</style>\n",
       "<table border=\"1\" class=\"dataframe\">\n",
       "  <thead>\n",
       "    <tr style=\"text-align: right;\">\n",
       "      <th></th>\n",
       "      <th>stomResist</th>\n",
       "      <th>groundwatr</th>\n",
       "      <th>hc_profile</th>\n",
       "    </tr>\n",
       "  </thead>\n",
       "  <tbody>\n",
       "    <tr>\n",
       "      <th>0</th>\n",
       "      <td>Jarvis</td>\n",
       "      <td>qTopmodl</td>\n",
       "      <td>constant</td>\n",
       "    </tr>\n",
       "    <tr>\n",
       "      <th>1</th>\n",
       "      <td>BallBerry</td>\n",
       "      <td>qTopmodl</td>\n",
       "      <td>pow_prof</td>\n",
       "    </tr>\n",
       "    <tr>\n",
       "      <th>2</th>\n",
       "      <td>simpleResistance</td>\n",
       "      <td>qTopmodl</td>\n",
       "      <td>constant</td>\n",
       "    </tr>\n",
       "  </tbody>\n",
       "</table>\n",
       "</div>"
      ],
      "text/plain": [
       "         stomResist groundwatr hc_profile\n",
       "0            Jarvis   qTopmodl   constant\n",
       "1         BallBerry   qTopmodl   pow_prof\n",
       "2  simpleResistance   qTopmodl   constant"
      ]
     },
     "execution_count": 6,
     "metadata": {},
     "output_type": "execute_result"
    }
   ],
   "source": [
    "df4 = df1.append(dicts, ignore_index=True)\n",
    "df4"
   ]
  },
  {
   "cell_type": "code",
   "execution_count": 7,
   "metadata": {},
   "outputs": [],
   "source": [
    "sites_short = ['Amplero', 'Blodgett']"
   ]
  },
  {
   "cell_type": "code",
   "execution_count": 7,
   "metadata": {},
   "outputs": [
    {
     "name": "stdout",
     "output_type": "stream",
     "text": [
      "0 stomResist Jarvis\n",
      "export LD_LIBRARY_PATH=\"/opt/local/lib:/opt/local/lib64:$LD_LIBRARY_PATH\" && export OMP_NUM_THREADS=8\n",
      "export LD_LIBRARY_PATH=\"/opt/local/lib:/opt/local/lib64:$LD_LIBRARY_PATH\" && export OMP_NUM_THREADS=8 && /opt/local/bin/summa.exe -p never -s run1_index0 -m /pool0/data/tushark/PLUMBER_data/sites/Amplero/settings/summa_zFileManager_Amplero.txt\n",
      "0 stomResist Jarvis\n",
      "export LD_LIBRARY_PATH=\"/opt/local/lib:/opt/local/lib64:$LD_LIBRARY_PATH\" && export OMP_NUM_THREADS=8\n",
      "export LD_LIBRARY_PATH=\"/opt/local/lib:/opt/local/lib64:$LD_LIBRARY_PATH\" && export OMP_NUM_THREADS=8 && /opt/local/bin/summa.exe -p never -s run1_index0 -m /pool0/data/tushark/PLUMBER_data/sites/Blodgett/settings/summa_zFileManager_Blodgett.txt\n"
     ]
    }
   ],
   "source": [
    "output = run_combinations(df3, sites_short)"
   ]
  },
  {
   "cell_type": "code",
   "execution_count": 8,
   "metadata": {},
   "outputs": [
    {
     "name": "stdout",
     "output_type": "stream",
     "text": [
      "0 stomResist Jarvis\n",
      "0 groundwatr qTopmodl\n",
      "0 hc_profile constant\n",
      "export LD_LIBRARY_PATH=\"/opt/local/lib:/opt/local/lib64:$LD_LIBRARY_PATH\" && export OMP_NUM_THREADS=8\n",
      "export LD_LIBRARY_PATH=\"/opt/local/lib:/opt/local/lib64:$LD_LIBRARY_PATH\" && export OMP_NUM_THREADS=8 && /opt/local/bin/summa.exe -p never -s test_run_4 -m /pool0/data/tushark/PLUMBER_data/sites/Amplero/settings/summa_zFileManager_Amplero.txt\n",
      "0 stomResist Jarvis\n",
      "0 groundwatr qTopmodl\n",
      "0 hc_profile constant\n",
      "export LD_LIBRARY_PATH=\"/opt/local/lib:/opt/local/lib64:$LD_LIBRARY_PATH\" && export OMP_NUM_THREADS=8\n",
      "export LD_LIBRARY_PATH=\"/opt/local/lib:/opt/local/lib64:$LD_LIBRARY_PATH\" && export OMP_NUM_THREADS=8 && /opt/local/bin/summa.exe -p never -s test_run_4 -m /pool0/data/tushark/PLUMBER_data/sites/Blodgett/settings/summa_zFileManager_Blodgett.txt\n"
     ]
    }
   ],
   "source": [
    "output2 = run_combinations(df2, sites_short)"
   ]
  },
  {
   "cell_type": "code",
   "execution_count": 9,
   "metadata": {},
   "outputs": [
    {
     "data": {
      "text/plain": [
       "['/data/tushark/PLUMBER_data/sites/Amplero/summa_output/Amplero_output_test_run_4_timestep.nc',\n",
       " '/data/tushark/PLUMBER_data/sites/Blodgett/summa_output/Blodgett_output_test_run_4_timestep.nc']"
      ]
     },
     "execution_count": 9,
     "metadata": {},
     "output_type": "execute_result"
    }
   ],
   "source": [
    "output2"
   ]
  },
  {
   "cell_type": "code",
   "execution_count": 10,
   "metadata": {},
   "outputs": [
    {
     "name": "stdout",
     "output_type": "stream",
     "text": [
      "0 stomResist Jarvis\n",
      "0 groundwatr qTopmodl\n",
      "0 hc_profile constant\n",
      "export LD_LIBRARY_PATH=\"/opt/local/lib:/opt/local/lib64:$LD_LIBRARY_PATH\" && export OMP_NUM_THREADS=8\n",
      "export LD_LIBRARY_PATH=\"/opt/local/lib:/opt/local/lib64:$LD_LIBRARY_PATH\" && export OMP_NUM_THREADS=8 && /opt/local/bin/summa.exe -p never -s test_run_4 -m /pool0/data/tushark/PLUMBER_data/sites/Espirra/settings/summa_zFileManager_Espirra.txt\n",
      "0 stomResist Jarvis\n",
      "0 groundwatr qTopmodl\n",
      "0 hc_profile constant\n",
      "export LD_LIBRARY_PATH=\"/opt/local/lib:/opt/local/lib64:$LD_LIBRARY_PATH\" && export OMP_NUM_THREADS=8\n",
      "export LD_LIBRARY_PATH=\"/opt/local/lib:/opt/local/lib64:$LD_LIBRARY_PATH\" && export OMP_NUM_THREADS=8 && /opt/local/bin/summa.exe -p never -s test_run_4 -m /pool0/data/tushark/PLUMBER_data/sites/FortPeck/settings/summa_zFileManager_FortPeck.txt\n"
     ]
    }
   ],
   "source": [
    "output3 = run_combinations(df2, ['Espirra', 'FortPeck'])"
   ]
  },
  {
   "cell_type": "code",
   "execution_count": 12,
   "metadata": {},
   "outputs": [
    {
     "name": "stdout",
     "output_type": "stream",
     "text": [
      "0 stomResist Jarvis\n",
      "export LD_LIBRARY_PATH=\"/opt/local/lib:/opt/local/lib64:$LD_LIBRARY_PATH\" && export OMP_NUM_THREADS=8\n",
      "export LD_LIBRARY_PATH=\"/opt/local/lib:/opt/local/lib64:$LD_LIBRARY_PATH\" && export OMP_NUM_THREADS=8 && /opt/local/bin/summa.exe -p never -s test_run_4 -m /pool0/data/tushark/PLUMBER_data/sites/Amplero/settings/summa_zFileManager_Amplero.txt\n",
      "0 stomResist Jarvis\n",
      "export LD_LIBRARY_PATH=\"/opt/local/lib:/opt/local/lib64:$LD_LIBRARY_PATH\" && export OMP_NUM_THREADS=8\n",
      "export LD_LIBRARY_PATH=\"/opt/local/lib:/opt/local/lib64:$LD_LIBRARY_PATH\" && export OMP_NUM_THREADS=8 && /opt/local/bin/summa.exe -p never -s test_run_4 -m /pool0/data/tushark/PLUMBER_data/sites/Blodgett/settings/summa_zFileManager_Blodgett.txt\n"
     ]
    }
   ],
   "source": [
    "output4 = run_combinations(df3, sites_short)"
   ]
  },
  {
   "cell_type": "code",
   "execution_count": 17,
   "metadata": {},
   "outputs": [
    {
     "name": "stdout",
     "output_type": "stream",
     "text": [
      "0 stomResist Jarvis\n",
      "export LD_LIBRARY_PATH=\"/opt/local/lib:/opt/local/lib64:$LD_LIBRARY_PATH\" && export OMP_NUM_THREADS=8\n",
      "export LD_LIBRARY_PATH=\"/opt/local/lib:/opt/local/lib64:$LD_LIBRARY_PATH\" && export OMP_NUM_THREADS=8 && /opt/local/bin/summa.exe -p never -s test_run_5 -m /pool0/data/tushark/PLUMBER_data/sites/Espirra/settings/summa_zFileManager_Espirra.txt\n",
      "0 stomResist Jarvis\n",
      "export LD_LIBRARY_PATH=\"/opt/local/lib:/opt/local/lib64:$LD_LIBRARY_PATH\" && export OMP_NUM_THREADS=8\n",
      "export LD_LIBRARY_PATH=\"/opt/local/lib:/opt/local/lib64:$LD_LIBRARY_PATH\" && export OMP_NUM_THREADS=8 && /opt/local/bin/summa.exe -p never -s test_run_5 -m /pool0/data/tushark/PLUMBER_data/sites/FortPeck/settings/summa_zFileManager_FortPeck.txt\n"
     ]
    }
   ],
   "source": [
    "output5 = run_combinations2(df3, ['Espirra', 'FortPeck'])"
   ]
  },
  {
   "cell_type": "code",
   "execution_count": 18,
   "metadata": {},
   "outputs": [
    {
     "name": "stdout",
     "output_type": "stream",
     "text": [
      "export LD_LIBRARY_PATH=\"/opt/local/lib:/opt/local/lib64:$LD_LIBRARY_PATH\" && export OMP_NUM_THREADS=8\n",
      "export LD_LIBRARY_PATH=\"/opt/local/lib:/opt/local/lib64:$LD_LIBRARY_PATH\" && export OMP_NUM_THREADS=8 && /opt/local/bin/summa.exe -p never -s test_simpleResistance_new -m /pool0/data/tushark/PLUMBER_data/sites/FortPeck/settings/summa_zFileManager_FortPeck.txt\n"
     ]
    }
   ],
   "source": [
    "a,b = run_summa('FortPeck')"
   ]
  },
  {
   "cell_type": "code",
   "execution_count": null,
   "metadata": {},
   "outputs": [],
   "source": [
    "out, err = monitor(a)"
   ]
  },
  {
   "cell_type": "code",
   "execution_count": null,
   "metadata": {},
   "outputs": [],
   "source": [
    "for site in sites:\n",
    "    run_summa(site)"
   ]
  },
  {
   "cell_type": "code",
   "execution_count": null,
   "metadata": {},
   "outputs": [],
   "source": [
    "for site in sites:\n",
    "    run_summa2(site)"
   ]
  },
  {
   "cell_type": "code",
   "execution_count": null,
   "metadata": {},
   "outputs": [],
   "source": [
    "err"
   ]
  },
  {
   "cell_type": "code",
   "execution_count": null,
   "metadata": {},
   "outputs": [],
   "source": []
  }
 ],
 "metadata": {
  "kernelspec": {
   "display_name": "default",
   "language": "python",
   "name": "default"
  },
  "language_info": {
   "codemirror_mode": {
    "name": "ipython",
    "version": 3
   },
   "file_extension": ".py",
   "mimetype": "text/x-python",
   "name": "python",
   "nbconvert_exporter": "python",
   "pygments_lexer": "ipython3",
   "version": "3.6.4"
  }
 },
 "nbformat": 4,
 "nbformat_minor": 2
}
