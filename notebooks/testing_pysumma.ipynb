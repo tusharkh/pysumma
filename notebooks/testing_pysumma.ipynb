{
 "cells": [
  {
   "cell_type": "code",
   "execution_count": 1,
   "metadata": {},
   "outputs": [],
   "source": [
    "import summa_plot as sp\n",
    "import pysumma.Simulation\n",
    "import importlib\n",
    "import time\n",
    "importlib.reload(pysumma.Simulation)\n",
    "\n",
    "sites = ['Amplero', 'Blodgett', 'Bugac', 'ElSaler', 'ElSaler2', 'Espirra', 'FortPeck', \n",
    "         'Harvard', 'Hesse', 'Howard', 'Howlandm', 'Hyytiala', 'Kruger', 'Loobos', 'Merbleue',\n",
    "         'Mopane', 'Palang', 'Sylvania', 'Tumba', 'UniMich']\n",
    "fman_template = \"/pool0/data/tushark/PLUMBER_data/sites/{}/settings/summa_zFileManager_{}.txt\"\n",
    "fman_dict = {s: fman_template.format(s, s) for s in sites}\n",
    "\n",
    "def run_summa(site):\n",
    "    s = pysumma.Simulation.Simulation(fman_dict[site])\n",
    "    s.decision_obj.stomResist.value = 'simpleResistance'\n",
    "    s.executable = '/opt/local/bin/summa.exe'\n",
    "    s.library_path = '/opt/local/lib:/opt/local/lib64:$LD_LIBRARY_PATH'\n",
    "    additional_args = ['export OMP_NUM_THREADS=8']\n",
    "    return s.execute('test_simpleResistance', 'local', additional_args)\n",
    "\n",
    "def monitor(proc):\n",
    "    while proc.poll() is not None:\n",
    "        time.sleep(1)\n",
    "    return proc.stdout.read(), proc.stderr.read()"
   ]
  },
  {
   "cell_type": "code",
   "execution_count": 2,
   "metadata": {},
   "outputs": [
    {
     "name": "stdout",
     "output_type": "stream",
     "text": [
      "export LD_LIBRARY_PATH=\"/opt/local/lib:/opt/local/lib64:$LD_LIBRARY_PATH\" && export OMP_NUM_THREADS=8\n",
      "export LD_LIBRARY_PATH=\"/opt/local/lib:/opt/local/lib64:$LD_LIBRARY_PATH\" && export OMP_NUM_THREADS=8 && /opt/local/bin/summa.exe -p never -s test_simpleResistance -m /pool0/data/tushark/PLUMBER_data/sites/Amplero/settings/summa_zFileManager_Amplero.txt\n",
      "export LD_LIBRARY_PATH=\"/opt/local/lib:/opt/local/lib64:$LD_LIBRARY_PATH\" && export OMP_NUM_THREADS=8\n",
      "export LD_LIBRARY_PATH=\"/opt/local/lib:/opt/local/lib64:$LD_LIBRARY_PATH\" && export OMP_NUM_THREADS=8 && /opt/local/bin/summa.exe -p never -s test_simpleResistance -m /pool0/data/tushark/PLUMBER_data/sites/Blodgett/settings/summa_zFileManager_Blodgett.txt\n",
      "export LD_LIBRARY_PATH=\"/opt/local/lib:/opt/local/lib64:$LD_LIBRARY_PATH\" && export OMP_NUM_THREADS=8\n",
      "export LD_LIBRARY_PATH=\"/opt/local/lib:/opt/local/lib64:$LD_LIBRARY_PATH\" && export OMP_NUM_THREADS=8 && /opt/local/bin/summa.exe -p never -s test_simpleResistance -m /pool0/data/tushark/PLUMBER_data/sites/Bugac/settings/summa_zFileManager_Bugac.txt\n",
      "export LD_LIBRARY_PATH=\"/opt/local/lib:/opt/local/lib64:$LD_LIBRARY_PATH\" && export OMP_NUM_THREADS=8\n",
      "export LD_LIBRARY_PATH=\"/opt/local/lib:/opt/local/lib64:$LD_LIBRARY_PATH\" && export OMP_NUM_THREADS=8 && /opt/local/bin/summa.exe -p never -s test_simpleResistance -m /pool0/data/tushark/PLUMBER_data/sites/ElSaler/settings/summa_zFileManager_ElSaler.txt\n",
      "export LD_LIBRARY_PATH=\"/opt/local/lib:/opt/local/lib64:$LD_LIBRARY_PATH\" && export OMP_NUM_THREADS=8\n",
      "export LD_LIBRARY_PATH=\"/opt/local/lib:/opt/local/lib64:$LD_LIBRARY_PATH\" && export OMP_NUM_THREADS=8 && /opt/local/bin/summa.exe -p never -s test_simpleResistance -m /pool0/data/tushark/PLUMBER_data/sites/ElSaler2/settings/summa_zFileManager_ElSaler2.txt\n",
      "export LD_LIBRARY_PATH=\"/opt/local/lib:/opt/local/lib64:$LD_LIBRARY_PATH\" && export OMP_NUM_THREADS=8\n",
      "export LD_LIBRARY_PATH=\"/opt/local/lib:/opt/local/lib64:$LD_LIBRARY_PATH\" && export OMP_NUM_THREADS=8 && /opt/local/bin/summa.exe -p never -s test_simpleResistance -m /pool0/data/tushark/PLUMBER_data/sites/Espirra/settings/summa_zFileManager_Espirra.txt\n",
      "export LD_LIBRARY_PATH=\"/opt/local/lib:/opt/local/lib64:$LD_LIBRARY_PATH\" && export OMP_NUM_THREADS=8\n",
      "export LD_LIBRARY_PATH=\"/opt/local/lib:/opt/local/lib64:$LD_LIBRARY_PATH\" && export OMP_NUM_THREADS=8 && /opt/local/bin/summa.exe -p never -s test_simpleResistance -m /pool0/data/tushark/PLUMBER_data/sites/FortPeck/settings/summa_zFileManager_FortPeck.txt\n",
      "export LD_LIBRARY_PATH=\"/opt/local/lib:/opt/local/lib64:$LD_LIBRARY_PATH\" && export OMP_NUM_THREADS=8\n",
      "export LD_LIBRARY_PATH=\"/opt/local/lib:/opt/local/lib64:$LD_LIBRARY_PATH\" && export OMP_NUM_THREADS=8 && /opt/local/bin/summa.exe -p never -s test_simpleResistance -m /pool0/data/tushark/PLUMBER_data/sites/Harvard/settings/summa_zFileManager_Harvard.txt\n",
      "export LD_LIBRARY_PATH=\"/opt/local/lib:/opt/local/lib64:$LD_LIBRARY_PATH\" && export OMP_NUM_THREADS=8\n",
      "export LD_LIBRARY_PATH=\"/opt/local/lib:/opt/local/lib64:$LD_LIBRARY_PATH\" && export OMP_NUM_THREADS=8 && /opt/local/bin/summa.exe -p never -s test_simpleResistance -m /pool0/data/tushark/PLUMBER_data/sites/Hesse/settings/summa_zFileManager_Hesse.txt\n",
      "export LD_LIBRARY_PATH=\"/opt/local/lib:/opt/local/lib64:$LD_LIBRARY_PATH\" && export OMP_NUM_THREADS=8\n",
      "export LD_LIBRARY_PATH=\"/opt/local/lib:/opt/local/lib64:$LD_LIBRARY_PATH\" && export OMP_NUM_THREADS=8 && /opt/local/bin/summa.exe -p never -s test_simpleResistance -m /pool0/data/tushark/PLUMBER_data/sites/Howard/settings/summa_zFileManager_Howard.txt\n",
      "export LD_LIBRARY_PATH=\"/opt/local/lib:/opt/local/lib64:$LD_LIBRARY_PATH\" && export OMP_NUM_THREADS=8\n",
      "export LD_LIBRARY_PATH=\"/opt/local/lib:/opt/local/lib64:$LD_LIBRARY_PATH\" && export OMP_NUM_THREADS=8 && /opt/local/bin/summa.exe -p never -s test_simpleResistance -m /pool0/data/tushark/PLUMBER_data/sites/Howlandm/settings/summa_zFileManager_Howlandm.txt\n",
      "export LD_LIBRARY_PATH=\"/opt/local/lib:/opt/local/lib64:$LD_LIBRARY_PATH\" && export OMP_NUM_THREADS=8\n",
      "export LD_LIBRARY_PATH=\"/opt/local/lib:/opt/local/lib64:$LD_LIBRARY_PATH\" && export OMP_NUM_THREADS=8 && /opt/local/bin/summa.exe -p never -s test_simpleResistance -m /pool0/data/tushark/PLUMBER_data/sites/Hyytiala/settings/summa_zFileManager_Hyytiala.txt\n",
      "export LD_LIBRARY_PATH=\"/opt/local/lib:/opt/local/lib64:$LD_LIBRARY_PATH\" && export OMP_NUM_THREADS=8\n",
      "export LD_LIBRARY_PATH=\"/opt/local/lib:/opt/local/lib64:$LD_LIBRARY_PATH\" && export OMP_NUM_THREADS=8 && /opt/local/bin/summa.exe -p never -s test_simpleResistance -m /pool0/data/tushark/PLUMBER_data/sites/Kruger/settings/summa_zFileManager_Kruger.txt\n",
      "export LD_LIBRARY_PATH=\"/opt/local/lib:/opt/local/lib64:$LD_LIBRARY_PATH\" && export OMP_NUM_THREADS=8\n",
      "export LD_LIBRARY_PATH=\"/opt/local/lib:/opt/local/lib64:$LD_LIBRARY_PATH\" && export OMP_NUM_THREADS=8 && /opt/local/bin/summa.exe -p never -s test_simpleResistance -m /pool0/data/tushark/PLUMBER_data/sites/Loobos/settings/summa_zFileManager_Loobos.txt\n",
      "export LD_LIBRARY_PATH=\"/opt/local/lib:/opt/local/lib64:$LD_LIBRARY_PATH\" && export OMP_NUM_THREADS=8\n",
      "export LD_LIBRARY_PATH=\"/opt/local/lib:/opt/local/lib64:$LD_LIBRARY_PATH\" && export OMP_NUM_THREADS=8 && /opt/local/bin/summa.exe -p never -s test_simpleResistance -m /pool0/data/tushark/PLUMBER_data/sites/Merbleue/settings/summa_zFileManager_Merbleue.txt\n",
      "export LD_LIBRARY_PATH=\"/opt/local/lib:/opt/local/lib64:$LD_LIBRARY_PATH\" && export OMP_NUM_THREADS=8\n",
      "export LD_LIBRARY_PATH=\"/opt/local/lib:/opt/local/lib64:$LD_LIBRARY_PATH\" && export OMP_NUM_THREADS=8 && /opt/local/bin/summa.exe -p never -s test_simpleResistance -m /pool0/data/tushark/PLUMBER_data/sites/Mopane/settings/summa_zFileManager_Mopane.txt\n",
      "export LD_LIBRARY_PATH=\"/opt/local/lib:/opt/local/lib64:$LD_LIBRARY_PATH\" && export OMP_NUM_THREADS=8\n",
      "export LD_LIBRARY_PATH=\"/opt/local/lib:/opt/local/lib64:$LD_LIBRARY_PATH\" && export OMP_NUM_THREADS=8 && /opt/local/bin/summa.exe -p never -s test_simpleResistance -m /pool0/data/tushark/PLUMBER_data/sites/Palang/settings/summa_zFileManager_Palang.txt\n",
      "export LD_LIBRARY_PATH=\"/opt/local/lib:/opt/local/lib64:$LD_LIBRARY_PATH\" && export OMP_NUM_THREADS=8\n",
      "export LD_LIBRARY_PATH=\"/opt/local/lib:/opt/local/lib64:$LD_LIBRARY_PATH\" && export OMP_NUM_THREADS=8 && /opt/local/bin/summa.exe -p never -s test_simpleResistance -m /pool0/data/tushark/PLUMBER_data/sites/Sylvania/settings/summa_zFileManager_Sylvania.txt\n",
      "export LD_LIBRARY_PATH=\"/opt/local/lib:/opt/local/lib64:$LD_LIBRARY_PATH\" && export OMP_NUM_THREADS=8\n",
      "export LD_LIBRARY_PATH=\"/opt/local/lib:/opt/local/lib64:$LD_LIBRARY_PATH\" && export OMP_NUM_THREADS=8 && /opt/local/bin/summa.exe -p never -s test_simpleResistance -m /pool0/data/tushark/PLUMBER_data/sites/Tumba/settings/summa_zFileManager_Tumba.txt\n",
      "export LD_LIBRARY_PATH=\"/opt/local/lib:/opt/local/lib64:$LD_LIBRARY_PATH\" && export OMP_NUM_THREADS=8\n",
      "export LD_LIBRARY_PATH=\"/opt/local/lib:/opt/local/lib64:$LD_LIBRARY_PATH\" && export OMP_NUM_THREADS=8 && /opt/local/bin/summa.exe -p never -s test_simpleResistance -m /pool0/data/tushark/PLUMBER_data/sites/UniMich/settings/summa_zFileManager_UniMich.txt\n"
     ]
    }
   ],
   "source": [
    "good = {}\n",
    "bad = {}\n",
    "for s in sites:\n",
    "    proc, outfile = run_summa(s)\n",
    "    out, err = monitor(proc)\n",
    "    try:\n",
    "        xr.open_dataset(outfile)\n",
    "        good[s] = out\n",
    "    except:\n",
    "        bad[s] = err"
   ]
  },
  {
   "cell_type": "code",
   "execution_count": 3,
   "metadata": {},
   "outputs": [
    {
     "data": {
      "text/plain": [
       "b\"At line 133 of file ../build/source/hookup/summaFileManager.f90 (unit = 67, file = '/data/andrbenn/PLUMBER_data/sites/Hesse/summa_output/runinfo.txt')\\nFortran runtime error: Cannot write to file opened for READ\\n\\nError termination. Backtrace:\\n#0  0x7f18433a5503 in data_transfer_init\\n\\tat ../.././libgfortran/io/transfer.c:2783\\n#1  0x4e74c2 in ???\\n#2  0x49e375 in ???\\n#3  0x402b6c in ???\\n#4  0x7f184271fc04 in ???\\n#5  0x402b95 in ???\\n#6  0xffffffffffffffff in ???\\n\""
      ]
     },
     "execution_count": 3,
     "metadata": {},
     "output_type": "execute_result"
    }
   ],
   "source": [
    "new_proc.stderr.read()"
   ]
  },
  {
   "cell_type": "code",
   "execution_count": 7,
   "metadata": {},
   "outputs": [],
   "source": [
    "def monitor(proc):\n",
    "    while proc.poll() is not None:\n",
    "        time.sleep(1)\n",
    "    return proc.stdout.read(), proc.stderr.read()"
   ]
  },
  {
   "cell_type": "code",
   "execution_count": null,
   "metadata": {},
   "outputs": [],
   "source": [
    "s.decision_obj.__dict__[k].value = value_to_change"
   ]
  },
  {
   "cell_type": "code",
   "execution_count": 3,
   "metadata": {},
   "outputs": [],
   "source": [
    "summa_options = {\n",
    "    'stomResist': ['value', 'BallBerry', 'Jarvis', 'simpleResistance', 'BallBerryFlex', \n",
    "                   'BallBerryTest'],\n",
    "    'groundwatr': ['qTopmodl', 'bigBuckt', 'noXplict'],\n",
    "    'hc_profile': ['constant', 'pow_prof'],\n",
    "    'thCondSoil': ['funcSoilWet', 'mixConstit', 'hanssonVZ'],\n",
    "    'canopySrad': ['noah_mp', 'CLM_2stream', 'UEB_2stream', 'NL_scatter', 'BeersLaw']\n",
    "}\n"
   ]
  },
  {
   "cell_type": "code",
   "execution_count": 4,
   "metadata": {},
   "outputs": [
    {
     "data": {
      "text/plain": [
       "['value',\n",
       " 'BallBerry',\n",
       " 'Jarvis',\n",
       " 'simpleResistance',\n",
       " 'BallBerryFlex',\n",
       " 'BallBerryTest']"
      ]
     },
     "execution_count": 4,
     "metadata": {},
     "output_type": "execute_result"
    }
   ],
   "source": [
    "summa_options['stomResist']"
   ]
  },
  {
   "cell_type": "code",
   "execution_count": 6,
   "metadata": {},
   "outputs": [],
   "source": [
    "import pandas as pd\n",
    "import numpy as np"
   ]
  },
  {
   "cell_type": "code",
   "execution_count": 7,
   "metadata": {},
   "outputs": [],
   "source": [
    "df2 = pd.DataFrame(np.random.randint(low=0, high=10, size=(5, 5)),\n",
    "                   columns=['a', 'b', 'c', 'd', 'e'])"
   ]
  },
  {
   "cell_type": "code",
   "execution_count": 8,
   "metadata": {},
   "outputs": [
    {
     "data": {
      "text/html": [
       "<div>\n",
       "<style scoped>\n",
       "    .dataframe tbody tr th:only-of-type {\n",
       "        vertical-align: middle;\n",
       "    }\n",
       "\n",
       "    .dataframe tbody tr th {\n",
       "        vertical-align: top;\n",
       "    }\n",
       "\n",
       "    .dataframe thead th {\n",
       "        text-align: right;\n",
       "    }\n",
       "</style>\n",
       "<table border=\"1\" class=\"dataframe\">\n",
       "  <thead>\n",
       "    <tr style=\"text-align: right;\">\n",
       "      <th></th>\n",
       "      <th>a</th>\n",
       "      <th>b</th>\n",
       "      <th>c</th>\n",
       "      <th>d</th>\n",
       "      <th>e</th>\n",
       "    </tr>\n",
       "  </thead>\n",
       "  <tbody>\n",
       "    <tr>\n",
       "      <th>0</th>\n",
       "      <td>0</td>\n",
       "      <td>6</td>\n",
       "      <td>0</td>\n",
       "      <td>3</td>\n",
       "      <td>2</td>\n",
       "    </tr>\n",
       "    <tr>\n",
       "      <th>1</th>\n",
       "      <td>3</td>\n",
       "      <td>3</td>\n",
       "      <td>4</td>\n",
       "      <td>8</td>\n",
       "      <td>8</td>\n",
       "    </tr>\n",
       "    <tr>\n",
       "      <th>2</th>\n",
       "      <td>0</td>\n",
       "      <td>5</td>\n",
       "      <td>3</td>\n",
       "      <td>9</td>\n",
       "      <td>7</td>\n",
       "    </tr>\n",
       "    <tr>\n",
       "      <th>3</th>\n",
       "      <td>6</td>\n",
       "      <td>8</td>\n",
       "      <td>3</td>\n",
       "      <td>1</td>\n",
       "      <td>2</td>\n",
       "    </tr>\n",
       "    <tr>\n",
       "      <th>4</th>\n",
       "      <td>0</td>\n",
       "      <td>7</td>\n",
       "      <td>2</td>\n",
       "      <td>0</td>\n",
       "      <td>9</td>\n",
       "    </tr>\n",
       "  </tbody>\n",
       "</table>\n",
       "</div>"
      ],
      "text/plain": [
       "   a  b  c  d  e\n",
       "0  0  6  0  3  2\n",
       "1  3  3  4  8  8\n",
       "2  0  5  3  9  7\n",
       "3  6  8  3  1  2\n",
       "4  0  7  2  0  9"
      ]
     },
     "execution_count": 8,
     "metadata": {},
     "output_type": "execute_result"
    }
   ],
   "source": [
    "df2"
   ]
  },
  {
   "cell_type": "code",
   "execution_count": 9,
   "metadata": {},
   "outputs": [
    {
     "data": {
      "text/plain": [
       "array(['a', 'b', 'c', 'd', 'e'], dtype=object)"
      ]
     },
     "execution_count": 9,
     "metadata": {},
     "output_type": "execute_result"
    }
   ],
   "source": [
    "df2.columns.values"
   ]
  },
  {
   "cell_type": "code",
   "execution_count": 10,
   "metadata": {},
   "outputs": [
    {
     "data": {
      "text/plain": [
       "array([0, 1, 2, 3, 4])"
      ]
     },
     "execution_count": 10,
     "metadata": {},
     "output_type": "execute_result"
    }
   ],
   "source": [
    "df2.index.values"
   ]
  },
  {
   "cell_type": "code",
   "execution_count": 11,
   "metadata": {},
   "outputs": [
    {
     "data": {
      "text/plain": [
       "0"
      ]
     },
     "execution_count": 11,
     "metadata": {},
     "output_type": "execute_result"
    }
   ],
   "source": [
    "df2['a'][0]"
   ]
  },
  {
   "cell_type": "code",
   "execution_count": 35,
   "metadata": {},
   "outputs": [
    {
     "name": "stdout",
     "output_type": "stream",
     "text": [
      "export LD_LIBRARY_PATH=\"/opt/local/lib:/opt/local/lib64:$LD_LIBRARY_PATH\" && export OMP_NUM_THREADS=8\n",
      "export LD_LIBRARY_PATH=\"/opt/local/lib:/opt/local/lib64:$LD_LIBRARY_PATH\" && export OMP_NUM_THREADS=8 && /opt/local/bin/summa.exe -p never -s test_simpleResistance -m /pool0/data/tushark/PLUMBER_data/sites/UniMich/settings/summa_zFileManager_UniMich.txt\n"
     ]
    },
    {
     "data": {
      "text/plain": [
       "(<subprocess.Popen at 0x7fb8e68ee358>,\n",
       " '/data/tushark/PLUMBER_data/sites/UniMich/summa_output/UniMich_output_test_simpleResistance_timestep.nc')"
      ]
     },
     "execution_count": 35,
     "metadata": {},
     "output_type": "execute_result"
    }
   ],
   "source": [
    "run_summa('UniMich')"
   ]
  },
  {
   "cell_type": "code",
   "execution_count": 12,
   "metadata": {},
   "outputs": [],
   "source": [
    "def run_combinations(dataframe, sites):\n",
    "    '''\n",
    "    This function takes a dataframe with summa\n",
    "    decision points as column names, and with each\n",
    "    row representing a summa run with the appropriate\n",
    "    decision options\n",
    "    It also takes an array_like object sites which just\n",
    "    lists the names of the sites for which each summa\n",
    "    combination should be run at.\n",
    "    '''\n",
    "    # assuming we want to run all sites\n",
    "    # another option would be to have a column in the \n",
    "    # dataframe representing the site for each run\n",
    "    for site in sites:\n",
    "        \n",
    "        # set up a simulation object for the site\n",
    "        s = pysumma.Simulation.Simulation(fman_dict[site])\n",
    "        s.executable = '/opt/local/bin/summa.exe'\n",
    "        s.library_path = '/opt/local/lib:/opt/local/lib64:$LD_LIBRARY_PATH'\n",
    "        additional_args = ['export OMP_NUM_THREADS=8']\n",
    "        \n",
    "        # for each option combination, set the appropriate\n",
    "        # values in the decision object, then run\n",
    "        for index in dataframe.index.values:\n",
    "            for decision in dataframe.columns.values:\n",
    "                print(index, decision)\n",
    "                s.decision_obj.__dict__[decision].value = dataframe[decision][index]\n",
    "                \n",
    "                # need naming convention for output files\n",
    "                s.execute('test_run_1', 'local', additional_args)"
   ]
  },
  {
   "cell_type": "code",
   "execution_count": 13,
   "metadata": {},
   "outputs": [],
   "source": [
    "import pandas as pd\n",
    "import numpy as np"
   ]
  },
  {
   "cell_type": "code",
   "execution_count": 14,
   "metadata": {},
   "outputs": [],
   "source": [
    "df1 = pd.DataFrame(columns=['stomResist', 'groundwatr', 'hc_profile'])"
   ]
  },
  {
   "cell_type": "code",
   "execution_count": 15,
   "metadata": {},
   "outputs": [
    {
     "data": {
      "text/html": [
       "<div>\n",
       "<style scoped>\n",
       "    .dataframe tbody tr th:only-of-type {\n",
       "        vertical-align: middle;\n",
       "    }\n",
       "\n",
       "    .dataframe tbody tr th {\n",
       "        vertical-align: top;\n",
       "    }\n",
       "\n",
       "    .dataframe thead th {\n",
       "        text-align: right;\n",
       "    }\n",
       "</style>\n",
       "<table border=\"1\" class=\"dataframe\">\n",
       "  <thead>\n",
       "    <tr style=\"text-align: right;\">\n",
       "      <th></th>\n",
       "      <th>stomResist</th>\n",
       "      <th>groundwatr</th>\n",
       "      <th>hc_profile</th>\n",
       "    </tr>\n",
       "  </thead>\n",
       "  <tbody>\n",
       "  </tbody>\n",
       "</table>\n",
       "</div>"
      ],
      "text/plain": [
       "Empty DataFrame\n",
       "Columns: [stomResist, groundwatr, hc_profile]\n",
       "Index: []"
      ]
     },
     "execution_count": 15,
     "metadata": {},
     "output_type": "execute_result"
    }
   ],
   "source": [
    "df1"
   ]
  },
  {
   "cell_type": "code",
   "execution_count": 35,
   "metadata": {},
   "outputs": [],
   "source": [
    "summa_options = {\n",
    "    0: {'stomResist': ['BallBerry', 'Jarvis', 'simpleResistance', 'BallBerryFlex', \n",
    "                   'BallBerryTest']},\n",
    "    'groundwatr': ['qTopmodl', 'bigBuckt', 'noXplict'],\n",
    "    'hc_profile': ['constant', 'pow_prof'],\n",
    "    'thCondSoil': ['funcSoilWet', 'mixConstit', 'hanssonVZ'],\n",
    "    'canopySrad': ['noah_mp', 'CLM_2stream', 'UEB_2stream', 'NL_scatter', 'BeersLaw']\n",
    "}"
   ]
  },
  {
   "cell_type": "code",
   "execution_count": 16,
   "metadata": {},
   "outputs": [],
   "source": [
    "dicts = [{'stomResist':'Jarvis', 'groundwatr':'qTopmodl', 'hc_profile':'constant'},\n",
    "         {'stomResist':'BallBerry', 'groundwatr':'bigBuckt', 'hc_profile':'pow_prof'},\n",
    "         {'stomResist':'simpleResistance', 'groundwatr':'qTopmodl', 'hc_profile':'constant'}]"
   ]
  },
  {
   "cell_type": "code",
   "execution_count": 17,
   "metadata": {},
   "outputs": [],
   "source": [
    "dict1 = {'stomResist':'Jarvis', 'groundwatr':'qTopmodl', 'hc_profile':'constant'}"
   ]
  },
  {
   "cell_type": "code",
   "execution_count": 18,
   "metadata": {},
   "outputs": [],
   "source": [
    "df2 = df1.append(dict1, ignore_index=True)"
   ]
  },
  {
   "cell_type": "code",
   "execution_count": 19,
   "metadata": {},
   "outputs": [
    {
     "data": {
      "text/html": [
       "<div>\n",
       "<style scoped>\n",
       "    .dataframe tbody tr th:only-of-type {\n",
       "        vertical-align: middle;\n",
       "    }\n",
       "\n",
       "    .dataframe tbody tr th {\n",
       "        vertical-align: top;\n",
       "    }\n",
       "\n",
       "    .dataframe thead th {\n",
       "        text-align: right;\n",
       "    }\n",
       "</style>\n",
       "<table border=\"1\" class=\"dataframe\">\n",
       "  <thead>\n",
       "    <tr style=\"text-align: right;\">\n",
       "      <th></th>\n",
       "      <th>stomResist</th>\n",
       "      <th>groundwatr</th>\n",
       "      <th>hc_profile</th>\n",
       "    </tr>\n",
       "  </thead>\n",
       "  <tbody>\n",
       "    <tr>\n",
       "      <th>0</th>\n",
       "      <td>Jarvis</td>\n",
       "      <td>qTopmodl</td>\n",
       "      <td>constant</td>\n",
       "    </tr>\n",
       "    <tr>\n",
       "      <th>1</th>\n",
       "      <td>BallBerry</td>\n",
       "      <td>bigBuckt</td>\n",
       "      <td>pow_prof</td>\n",
       "    </tr>\n",
       "    <tr>\n",
       "      <th>2</th>\n",
       "      <td>simpleResistance</td>\n",
       "      <td>qTopmodl</td>\n",
       "      <td>constant</td>\n",
       "    </tr>\n",
       "  </tbody>\n",
       "</table>\n",
       "</div>"
      ],
      "text/plain": [
       "         stomResist groundwatr hc_profile\n",
       "0            Jarvis   qTopmodl   constant\n",
       "1         BallBerry   bigBuckt   pow_prof\n",
       "2  simpleResistance   qTopmodl   constant"
      ]
     },
     "execution_count": 19,
     "metadata": {},
     "output_type": "execute_result"
    }
   ],
   "source": [
    "df1.append(dicts, ignore_index=True)"
   ]
  },
  {
   "cell_type": "code",
   "execution_count": 20,
   "metadata": {},
   "outputs": [
    {
     "data": {
      "text/html": [
       "<div>\n",
       "<style scoped>\n",
       "    .dataframe tbody tr th:only-of-type {\n",
       "        vertical-align: middle;\n",
       "    }\n",
       "\n",
       "    .dataframe tbody tr th {\n",
       "        vertical-align: top;\n",
       "    }\n",
       "\n",
       "    .dataframe thead th {\n",
       "        text-align: right;\n",
       "    }\n",
       "</style>\n",
       "<table border=\"1\" class=\"dataframe\">\n",
       "  <thead>\n",
       "    <tr style=\"text-align: right;\">\n",
       "      <th></th>\n",
       "      <th>stomResist</th>\n",
       "      <th>groundwatr</th>\n",
       "      <th>hc_profile</th>\n",
       "    </tr>\n",
       "  </thead>\n",
       "  <tbody>\n",
       "  </tbody>\n",
       "</table>\n",
       "</div>"
      ],
      "text/plain": [
       "Empty DataFrame\n",
       "Columns: [stomResist, groundwatr, hc_profile]\n",
       "Index: []"
      ]
     },
     "execution_count": 20,
     "metadata": {},
     "output_type": "execute_result"
    }
   ],
   "source": [
    "df1"
   ]
  },
  {
   "cell_type": "code",
   "execution_count": 21,
   "metadata": {},
   "outputs": [
    {
     "data": {
      "text/html": [
       "<div>\n",
       "<style scoped>\n",
       "    .dataframe tbody tr th:only-of-type {\n",
       "        vertical-align: middle;\n",
       "    }\n",
       "\n",
       "    .dataframe tbody tr th {\n",
       "        vertical-align: top;\n",
       "    }\n",
       "\n",
       "    .dataframe thead th {\n",
       "        text-align: right;\n",
       "    }\n",
       "</style>\n",
       "<table border=\"1\" class=\"dataframe\">\n",
       "  <thead>\n",
       "    <tr style=\"text-align: right;\">\n",
       "      <th></th>\n",
       "      <th>stomResist</th>\n",
       "      <th>groundwatr</th>\n",
       "      <th>hc_profile</th>\n",
       "    </tr>\n",
       "  </thead>\n",
       "  <tbody>\n",
       "    <tr>\n",
       "      <th>0</th>\n",
       "      <td>Jarvis</td>\n",
       "      <td>qTopmodl</td>\n",
       "      <td>constant</td>\n",
       "    </tr>\n",
       "  </tbody>\n",
       "</table>\n",
       "</div>"
      ],
      "text/plain": [
       "  stomResist groundwatr hc_profile\n",
       "0     Jarvis   qTopmodl   constant"
      ]
     },
     "execution_count": 21,
     "metadata": {},
     "output_type": "execute_result"
    }
   ],
   "source": [
    "df2"
   ]
  },
  {
   "cell_type": "code",
   "execution_count": 22,
   "metadata": {},
   "outputs": [],
   "source": [
    "sites_short = ['Amplero', 'Blodgett']"
   ]
  },
  {
   "cell_type": "code",
   "execution_count": 23,
   "metadata": {},
   "outputs": [
    {
     "name": "stdout",
     "output_type": "stream",
     "text": [
      "0 stomResist\n",
      "export LD_LIBRARY_PATH=\"/opt/local/lib:/opt/local/lib64:$LD_LIBRARY_PATH\" && export OMP_NUM_THREADS=8\n",
      "export LD_LIBRARY_PATH=\"/opt/local/lib:/opt/local/lib64:$LD_LIBRARY_PATH\" && export OMP_NUM_THREADS=8 && /opt/local/bin/summa.exe -p never -s test_run_1 -m /pool0/data/tushark/PLUMBER_data/sites/Amplero/settings/summa_zFileManager_Amplero.txt\n",
      "0 groundwatr\n",
      "export LD_LIBRARY_PATH=\"/opt/local/lib:/opt/local/lib64:$LD_LIBRARY_PATH\" && export OMP_NUM_THREADS=8\n",
      "export LD_LIBRARY_PATH=\"/opt/local/lib:/opt/local/lib64:$LD_LIBRARY_PATH\" && export OMP_NUM_THREADS=8 && /opt/local/bin/summa.exe -p never -s test_run_1 -m /pool0/data/tushark/PLUMBER_data/sites/Amplero/settings/summa_zFileManager_Amplero.txt\n",
      "0 hc_profile\n",
      "export LD_LIBRARY_PATH=\"/opt/local/lib:/opt/local/lib64:$LD_LIBRARY_PATH\" && export OMP_NUM_THREADS=8\n",
      "export LD_LIBRARY_PATH=\"/opt/local/lib:/opt/local/lib64:$LD_LIBRARY_PATH\" && export OMP_NUM_THREADS=8 && /opt/local/bin/summa.exe -p never -s test_run_1 -m /pool0/data/tushark/PLUMBER_data/sites/Amplero/settings/summa_zFileManager_Amplero.txt\n",
      "0 stomResist\n",
      "export LD_LIBRARY_PATH=\"/opt/local/lib:/opt/local/lib64:$LD_LIBRARY_PATH\" && export OMP_NUM_THREADS=8\n",
      "export LD_LIBRARY_PATH=\"/opt/local/lib:/opt/local/lib64:$LD_LIBRARY_PATH\" && export OMP_NUM_THREADS=8 && /opt/local/bin/summa.exe -p never -s test_run_1 -m /pool0/data/tushark/PLUMBER_data/sites/Blodgett/settings/summa_zFileManager_Blodgett.txt\n",
      "0 groundwatr\n",
      "export LD_LIBRARY_PATH=\"/opt/local/lib:/opt/local/lib64:$LD_LIBRARY_PATH\" && export OMP_NUM_THREADS=8\n",
      "export LD_LIBRARY_PATH=\"/opt/local/lib:/opt/local/lib64:$LD_LIBRARY_PATH\" && export OMP_NUM_THREADS=8 && /opt/local/bin/summa.exe -p never -s test_run_1 -m /pool0/data/tushark/PLUMBER_data/sites/Blodgett/settings/summa_zFileManager_Blodgett.txt\n",
      "0 hc_profile\n",
      "export LD_LIBRARY_PATH=\"/opt/local/lib:/opt/local/lib64:$LD_LIBRARY_PATH\" && export OMP_NUM_THREADS=8\n",
      "export LD_LIBRARY_PATH=\"/opt/local/lib:/opt/local/lib64:$LD_LIBRARY_PATH\" && export OMP_NUM_THREADS=8 && /opt/local/bin/summa.exe -p never -s test_run_1 -m /pool0/data/tushark/PLUMBER_data/sites/Blodgett/settings/summa_zFileManager_Blodgett.txt\n"
     ]
    }
   ],
   "source": [
    "run_combinations(df2, sites_short)"
   ]
  },
  {
   "cell_type": "code",
   "execution_count": 61,
   "metadata": {},
   "outputs": [],
   "source": [
    "df3 = df1.append(dicts, ignore_index=True)"
   ]
  },
  {
   "cell_type": "code",
   "execution_count": 62,
   "metadata": {},
   "outputs": [
    {
     "name": "stdout",
     "output_type": "stream",
     "text": [
      "0 stomResist\n",
      "export LD_LIBRARY_PATH=\"/opt/local/lib:/opt/local/lib64:$LD_LIBRARY_PATH\" && export OMP_NUM_THREADS=8\n",
      "export LD_LIBRARY_PATH=\"/opt/local/lib:/opt/local/lib64:$LD_LIBRARY_PATH\" && export OMP_NUM_THREADS=8 && /opt/local/bin/summa.exe -p never -s test_run_ -m /pool0/data/tushark/PLUMBER_data/sites/Amplero/settings/summa_zFileManager_Amplero.txt\n",
      "0 groundwatr\n",
      "export LD_LIBRARY_PATH=\"/opt/local/lib:/opt/local/lib64:$LD_LIBRARY_PATH\" && export OMP_NUM_THREADS=8\n",
      "export LD_LIBRARY_PATH=\"/opt/local/lib:/opt/local/lib64:$LD_LIBRARY_PATH\" && export OMP_NUM_THREADS=8 && /opt/local/bin/summa.exe -p never -s test_run_ -m /pool0/data/tushark/PLUMBER_data/sites/Amplero/settings/summa_zFileManager_Amplero.txt\n",
      "0 hc_profile\n",
      "export LD_LIBRARY_PATH=\"/opt/local/lib:/opt/local/lib64:$LD_LIBRARY_PATH\" && export OMP_NUM_THREADS=8\n",
      "export LD_LIBRARY_PATH=\"/opt/local/lib:/opt/local/lib64:$LD_LIBRARY_PATH\" && export OMP_NUM_THREADS=8 && /opt/local/bin/summa.exe -p never -s test_run_ -m /pool0/data/tushark/PLUMBER_data/sites/Amplero/settings/summa_zFileManager_Amplero.txt\n",
      "1 stomResist\n",
      "export LD_LIBRARY_PATH=\"/opt/local/lib:/opt/local/lib64:$LD_LIBRARY_PATH\" && export OMP_NUM_THREADS=8\n",
      "export LD_LIBRARY_PATH=\"/opt/local/lib:/opt/local/lib64:$LD_LIBRARY_PATH\" && export OMP_NUM_THREADS=8 && /opt/local/bin/summa.exe -p never -s test_run_ -m /pool0/data/tushark/PLUMBER_data/sites/Amplero/settings/summa_zFileManager_Amplero.txt\n",
      "1 groundwatr\n"
     ]
    },
    {
     "ename": "ValueError",
     "evalue": "Your input value bigBuckt is not one of the valid options ['qTopmodl', 'noXplict', 'noXplict']",
     "output_type": "error",
     "traceback": [
      "\u001b[0;31m---------------------------------------------------------------------------\u001b[0m",
      "\u001b[0;31mValueError\u001b[0m                                Traceback (most recent call last)",
      "\u001b[0;32m<ipython-input-62-3589d8b0479a>\u001b[0m in \u001b[0;36m<module>\u001b[0;34m()\u001b[0m\n\u001b[0;32m----> 1\u001b[0;31m \u001b[0mrun_combinations\u001b[0m\u001b[0;34m(\u001b[0m\u001b[0mdf3\u001b[0m\u001b[0;34m,\u001b[0m \u001b[0msites_short\u001b[0m\u001b[0;34m)\u001b[0m\u001b[0;34m\u001b[0m\u001b[0m\n\u001b[0m",
      "\u001b[0;32m<ipython-input-44-94136c22c92b>\u001b[0m in \u001b[0;36mrun_combinations\u001b[0;34m(dataframe, sites)\u001b[0m\n\u001b[1;32m     25\u001b[0m             \u001b[0;32mfor\u001b[0m \u001b[0mdecision\u001b[0m \u001b[0;32min\u001b[0m \u001b[0mdataframe\u001b[0m\u001b[0;34m.\u001b[0m\u001b[0mcolumns\u001b[0m\u001b[0;34m.\u001b[0m\u001b[0mvalues\u001b[0m\u001b[0;34m:\u001b[0m\u001b[0;34m\u001b[0m\u001b[0m\n\u001b[1;32m     26\u001b[0m                 \u001b[0mprint\u001b[0m\u001b[0;34m(\u001b[0m\u001b[0mindex\u001b[0m\u001b[0;34m,\u001b[0m \u001b[0mdecision\u001b[0m\u001b[0;34m)\u001b[0m\u001b[0;34m\u001b[0m\u001b[0m\n\u001b[0;32m---> 27\u001b[0;31m                 \u001b[0ms\u001b[0m\u001b[0;34m.\u001b[0m\u001b[0mdecision_obj\u001b[0m\u001b[0;34m.\u001b[0m\u001b[0m__dict__\u001b[0m\u001b[0;34m[\u001b[0m\u001b[0mdecision\u001b[0m\u001b[0;34m]\u001b[0m\u001b[0;34m.\u001b[0m\u001b[0mvalue\u001b[0m \u001b[0;34m=\u001b[0m \u001b[0mdataframe\u001b[0m\u001b[0;34m[\u001b[0m\u001b[0mdecision\u001b[0m\u001b[0;34m]\u001b[0m\u001b[0;34m[\u001b[0m\u001b[0mindex\u001b[0m\u001b[0;34m]\u001b[0m\u001b[0;34m\u001b[0m\u001b[0m\n\u001b[0m\u001b[1;32m     28\u001b[0m \u001b[0;34m\u001b[0m\u001b[0m\n\u001b[1;32m     29\u001b[0m                 \u001b[0;31m# need naming convention for output files\u001b[0m\u001b[0;34m\u001b[0m\u001b[0;34m\u001b[0m\u001b[0m\n",
      "\u001b[0;32m/pool0/data/tushark/pysumma/pysumma/Decisions.py\u001b[0m in \u001b[0;36mvalue\u001b[0;34m(self, new_value)\u001b[0m\n\u001b[1;32m     77\u001b[0m             \u001b[0mself\u001b[0m\u001b[0;34m.\u001b[0m\u001b[0mwrite_value\u001b[0m\u001b[0;34m(\u001b[0m\u001b[0mself\u001b[0m\u001b[0;34m.\u001b[0m\u001b[0mvalue\u001b[0m\u001b[0;34m,\u001b[0m \u001b[0mnew_value\u001b[0m\u001b[0;34m)\u001b[0m\u001b[0;34m\u001b[0m\u001b[0m\n\u001b[1;32m     78\u001b[0m         \u001b[0;32melse\u001b[0m\u001b[0;34m:\u001b[0m\u001b[0;34m\u001b[0m\u001b[0m\n\u001b[0;32m---> 79\u001b[0;31m             \u001b[0;32mraise\u001b[0m \u001b[0mValueError\u001b[0m\u001b[0;34m(\u001b[0m\u001b[0;34m'Your input value {} is not one of the valid options {}'\u001b[0m\u001b[0;34m.\u001b[0m\u001b[0mformat\u001b[0m\u001b[0;34m(\u001b[0m\u001b[0mnew_value\u001b[0m\u001b[0;34m,\u001b[0m \u001b[0mself\u001b[0m\u001b[0;34m.\u001b[0m\u001b[0moptions\u001b[0m\u001b[0;34m)\u001b[0m\u001b[0;34m)\u001b[0m\u001b[0;34m\u001b[0m\u001b[0m\n\u001b[0m\u001b[1;32m     80\u001b[0m \u001b[0;34m\u001b[0m\u001b[0m\n\u001b[1;32m     81\u001b[0m \u001b[0;34m\u001b[0m\u001b[0m\n",
      "\u001b[0;31mValueError\u001b[0m: Your input value bigBuckt is not one of the valid options ['qTopmodl', 'noXplict', 'noXplict']"
     ]
    }
   ],
   "source": [
    "run_combinations(df3, sites_short)"
   ]
  },
  {
   "cell_type": "code",
   "execution_count": 63,
   "metadata": {},
   "outputs": [],
   "source": [
    "def run_summa_error(site):\n",
    "    s = pysumma.Simulation.Simulation(fman_dict[site])\n",
    "    s.decision_obj.groundwatr.value = 'bigBuckt'\n",
    "    s.executable = '/opt/local/bin/summa.exe'\n",
    "    s.library_path = '/opt/local/lib:/opt/local/lib64:$LD_LIBRARY_PATH'\n",
    "    additional_args = ['export OMP_NUM_THREADS=8']\n",
    "    return s.execute('test_simpleResistance', 'local', additional_args)"
   ]
  },
  {
   "cell_type": "code",
   "execution_count": 64,
   "metadata": {},
   "outputs": [
    {
     "ename": "ValueError",
     "evalue": "Your input value bigBuckt is not one of the valid options ['qTopmodl', 'noXplict', 'noXplict']",
     "output_type": "error",
     "traceback": [
      "\u001b[0;31m---------------------------------------------------------------------------\u001b[0m",
      "\u001b[0;31mValueError\u001b[0m                                Traceback (most recent call last)",
      "\u001b[0;32m<ipython-input-64-a2a4f8b1cc53>\u001b[0m in \u001b[0;36m<module>\u001b[0;34m()\u001b[0m\n\u001b[0;32m----> 1\u001b[0;31m \u001b[0mrun_summa_error\u001b[0m\u001b[0;34m(\u001b[0m\u001b[0;34m'Amplero'\u001b[0m\u001b[0;34m)\u001b[0m\u001b[0;34m\u001b[0m\u001b[0m\n\u001b[0m",
      "\u001b[0;32m<ipython-input-63-d9d231f68348>\u001b[0m in \u001b[0;36mrun_summa_error\u001b[0;34m(site)\u001b[0m\n\u001b[1;32m      1\u001b[0m \u001b[0;32mdef\u001b[0m \u001b[0mrun_summa_error\u001b[0m\u001b[0;34m(\u001b[0m\u001b[0msite\u001b[0m\u001b[0;34m)\u001b[0m\u001b[0;34m:\u001b[0m\u001b[0;34m\u001b[0m\u001b[0m\n\u001b[1;32m      2\u001b[0m     \u001b[0ms\u001b[0m \u001b[0;34m=\u001b[0m \u001b[0mpysumma\u001b[0m\u001b[0;34m.\u001b[0m\u001b[0mSimulation\u001b[0m\u001b[0;34m.\u001b[0m\u001b[0mSimulation\u001b[0m\u001b[0;34m(\u001b[0m\u001b[0mfman_dict\u001b[0m\u001b[0;34m[\u001b[0m\u001b[0msite\u001b[0m\u001b[0;34m]\u001b[0m\u001b[0;34m)\u001b[0m\u001b[0;34m\u001b[0m\u001b[0m\n\u001b[0;32m----> 3\u001b[0;31m     \u001b[0ms\u001b[0m\u001b[0;34m.\u001b[0m\u001b[0mdecision_obj\u001b[0m\u001b[0;34m.\u001b[0m\u001b[0mgroundwatr\u001b[0m\u001b[0;34m.\u001b[0m\u001b[0mvalue\u001b[0m \u001b[0;34m=\u001b[0m \u001b[0;34m'bigBuckt'\u001b[0m\u001b[0;34m\u001b[0m\u001b[0m\n\u001b[0m\u001b[1;32m      4\u001b[0m     \u001b[0ms\u001b[0m\u001b[0;34m.\u001b[0m\u001b[0mexecutable\u001b[0m \u001b[0;34m=\u001b[0m \u001b[0;34m'/opt/local/bin/summa.exe'\u001b[0m\u001b[0;34m\u001b[0m\u001b[0m\n\u001b[1;32m      5\u001b[0m     \u001b[0ms\u001b[0m\u001b[0;34m.\u001b[0m\u001b[0mlibrary_path\u001b[0m \u001b[0;34m=\u001b[0m \u001b[0;34m'/opt/local/lib:/opt/local/lib64:$LD_LIBRARY_PATH'\u001b[0m\u001b[0;34m\u001b[0m\u001b[0m\n",
      "\u001b[0;32m/pool0/data/tushark/pysumma/pysumma/Decisions.py\u001b[0m in \u001b[0;36mvalue\u001b[0;34m(self, new_value)\u001b[0m\n\u001b[1;32m     77\u001b[0m             \u001b[0mself\u001b[0m\u001b[0;34m.\u001b[0m\u001b[0mwrite_value\u001b[0m\u001b[0;34m(\u001b[0m\u001b[0mself\u001b[0m\u001b[0;34m.\u001b[0m\u001b[0mvalue\u001b[0m\u001b[0;34m,\u001b[0m \u001b[0mnew_value\u001b[0m\u001b[0;34m)\u001b[0m\u001b[0;34m\u001b[0m\u001b[0m\n\u001b[1;32m     78\u001b[0m         \u001b[0;32melse\u001b[0m\u001b[0;34m:\u001b[0m\u001b[0;34m\u001b[0m\u001b[0m\n\u001b[0;32m---> 79\u001b[0;31m             \u001b[0;32mraise\u001b[0m \u001b[0mValueError\u001b[0m\u001b[0;34m(\u001b[0m\u001b[0;34m'Your input value {} is not one of the valid options {}'\u001b[0m\u001b[0;34m.\u001b[0m\u001b[0mformat\u001b[0m\u001b[0;34m(\u001b[0m\u001b[0mnew_value\u001b[0m\u001b[0;34m,\u001b[0m \u001b[0mself\u001b[0m\u001b[0;34m.\u001b[0m\u001b[0moptions\u001b[0m\u001b[0;34m)\u001b[0m\u001b[0;34m)\u001b[0m\u001b[0;34m\u001b[0m\u001b[0m\n\u001b[0m\u001b[1;32m     80\u001b[0m \u001b[0;34m\u001b[0m\u001b[0m\n\u001b[1;32m     81\u001b[0m \u001b[0;34m\u001b[0m\u001b[0m\n",
      "\u001b[0;31mValueError\u001b[0m: Your input value bigBuckt is not one of the valid options ['qTopmodl', 'noXplict', 'noXplict']"
     ]
    }
   ],
   "source": [
    "run_summa_error('Amplero')"
   ]
  },
  {
   "cell_type": "code",
   "execution_count": 65,
   "metadata": {},
   "outputs": [],
   "source": [
    "import xarray as xr"
   ]
  },
  {
   "cell_type": "code",
   "execution_count": 66,
   "metadata": {},
   "outputs": [],
   "source": [
    "path = '/pool0/data/tushark/PLUMBER_data/sites/Amplero/summa_output/Amplero_output_test_run_timestep.nc'"
   ]
  },
  {
   "cell_type": "code",
   "execution_count": 67,
   "metadata": {},
   "outputs": [],
   "source": [
    "amplero = xr.open_dataset(path)"
   ]
  },
  {
   "cell_type": "code",
   "execution_count": 69,
   "metadata": {},
   "outputs": [
    {
     "data": {
      "text/plain": [
       "<xarray.DataArray 'pptrate' (time: 70128, hru: 1)>\n",
       "array([[ 0.],\n",
       "       [ 0.],\n",
       "       [ 0.],\n",
       "       ..., \n",
       "       [ 0.],\n",
       "       [ 0.],\n",
       "       [ 0.]])\n",
       "Coordinates:\n",
       "  * time     (time) datetime64[ns] 2003-01-01T00:30:00.000013440 ...\n",
       "  * hru      (hru) int32 1\n",
       "Attributes:\n",
       "    long_name:  precipitation rate (instant)\n",
       "    units:      kg m-2 s-1"
      ]
     },
     "execution_count": 69,
     "metadata": {},
     "output_type": "execute_result"
    }
   ],
   "source": [
    "amplero['pptrate']"
   ]
  },
  {
   "cell_type": "code",
   "execution_count": null,
   "metadata": {},
   "outputs": [],
   "source": [
    "var1 = amplero['pptrate']"
   ]
  },
  {
   "cell_type": "code",
   "execution_count": null,
   "metadata": {},
   "outputs": [],
   "source": [
    "var1"
   ]
  },
  {
   "cell_type": "code",
   "execution_count": null,
   "metadata": {},
   "outputs": [],
   "source": []
  }
 ],
 "metadata": {
  "kernelspec": {
   "display_name": "default",
   "language": "python",
   "name": "default"
  },
  "language_info": {
   "codemirror_mode": {
    "name": "ipython",
    "version": 3
   },
   "file_extension": ".py",
   "mimetype": "text/x-python",
   "name": "python",
   "nbconvert_exporter": "python",
   "pygments_lexer": "ipython3",
   "version": "3.6.4"
  },
  "latex_envs": {
   "LaTeX_envs_menu_present": true,
   "autoclose": false,
   "autocomplete": true,
   "bibliofile": "biblio.bib",
   "cite_by": "apalike",
   "current_citInitial": 1,
   "eqLabelWithNumbers": true,
   "eqNumInitial": 1,
   "hotkeys": {
    "equation": "Ctrl-E",
    "itemize": "Ctrl-I"
   },
   "labels_anchors": false,
   "latex_user_defs": false,
   "report_style_numbering": false,
   "user_envs_cfg": false
  },
  "toc": {
   "nav_menu": {},
   "number_sections": true,
   "sideBar": true,
   "skip_h1_title": false,
   "title_cell": "Table of Contents",
   "title_sidebar": "Contents",
   "toc_cell": false,
   "toc_position": {},
   "toc_section_display": true,
   "toc_window_display": false
  },
  "varInspector": {
   "cols": {
    "lenName": 16,
    "lenType": 16,
    "lenVar": 40
   },
   "kernels_config": {
    "python": {
     "delete_cmd_postfix": "",
     "delete_cmd_prefix": "del ",
     "library": "var_list.py",
     "varRefreshCmd": "print(var_dic_list())"
    },
    "r": {
     "delete_cmd_postfix": ") ",
     "delete_cmd_prefix": "rm(",
     "library": "var_list.r",
     "varRefreshCmd": "cat(var_dic_list()) "
    }
   },
   "types_to_exclude": [
    "module",
    "function",
    "builtin_function_or_method",
    "instance",
    "_Feature"
   ],
   "window_display": false
  }
 },
 "nbformat": 4,
 "nbformat_minor": 2
}
