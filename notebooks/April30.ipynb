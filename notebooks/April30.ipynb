{
 "cells": [
  {
   "cell_type": "code",
   "execution_count": 2,
   "metadata": {},
   "outputs": [
    {
     "name": "stdout",
     "output_type": "stream",
     "text": [
      "Populating the interactive namespace from numpy and matplotlib\n"
     ]
    }
   ],
   "source": [
    "%pylab inline\n",
    "import os\n",
    "import time\n",
    "import glob\n",
    "import operator\n",
    "import xarray as xr\n",
    "import summa_plot as sp\n",
    "import pysumma.Simulation\n",
    "import scipy.stats\n",
    "import matplotlib as mpl\n",
    "from pprint import pprint\n",
    "from functools import reduce\n",
    "from scipy.special import psi, inv_boxcox\n",
    "from jupyterthemes import jtplot\n",
    "from sklearn.neighbors import NearestNeighbors\n",
    "import pandas as pd\n",
    "import importlib\n",
    "from jupyterthemes import jtplot\n",
    "importlib.reload(pysumma.Simulation)\n",
    "\n",
    "jtplot.style('grade3', fscale=1.3)\n",
    "jtplot.figsize(x=18, y=10)\n",
    "mpl.rcParams['figure.figsize'] = (18, 10)\n",
    "\n",
    "MM_PER_M = 1000\n",
    "SEC_PER_MIN = 60\n",
    "MIN_PER_HOUR = 60\n",
    "HOUR_PER_DAY = 24\n",
    "DAY_PER_YEAR = 365\n",
    "# Timestep is 1 hour in our case\n",
    "SEC_PER_TIMESTEP = SEC_PER_MIN * MIN_PER_HOUR\n",
    "\n",
    "user = os.environ['USER']\n",
    "sites = ['Amplero', 'Blodgett', 'Bugac', 'ElSaler', 'ElSaler2', 'Espirra', 'FortPeck', \n",
    "         'Harvard', 'Hesse', 'Howard', 'Howlandm', 'Hyytiala', 'Kruger', 'Loobos', 'Merbleue',\n",
    "         'Mopane', 'Palang', 'Sylvania', 'Tumba', 'UniMich']\n",
    "soil_moisture_sites = ['Amplero', 'Blodgett', 'ElSaler', 'ElSaler2', 'FortPeck', 'Hesse', \n",
    "                       'Hyytiala', 'Kruger', 'Loobos', 'Mopane', 'Sylvania']\n",
    "fman_template = \"/pool0/data/\"+user+\"/PLUMBER_data/sites/{}/settings/summa_zFileManager_{}.txt\"\n",
    "oc_template = \"/pool0/data/\"+user+\"/PLUMBER_data/sites/{}/settings/meta/summa_zModelOutput.txt\"\n",
    "fman_dict = {s: fman_template.format(s, s) for s in sites}\n",
    "\n",
    "#fman_template = \"/pool0/data/tushark/PLUMBER_data/sites/{}/settings/summa_zFileManager_{}.txt\"\n",
    "#fman_dict = {s: fman_template.format(s, s) for s in sites}"
   ]
  },
  {
   "cell_type": "code",
   "execution_count": 3,
   "metadata": {},
   "outputs": [],
   "source": [
    "def raw_data(data_array):\n",
    "    \"\"\"Unpacks data into a flat array\"\"\"\n",
    "    eps = 1e-12\n",
    "    return data_array.values.flatten() + eps * np.random.random(data_array.shape)\n",
    "\n",
    "\n",
    "def good_inds(x, strict=False):\n",
    "    \"\"\"Remove invalid data\"\"\"\n",
    "    if strict:\n",
    "        return np.where(np.logical_and(x > 1e-10, x < 3000))[0]\n",
    "    return np.where(np.logical_and(x > -3000, x < 3000))[0]\n",
    "\n",
    "\n",
    "def nearest_distances(X, k=1):\n",
    "    \"\"\"Compute distances to kth nearest neighbors\"\"\"\n",
    "    knn = NearestNeighbors(n_neighbors=k, metric='chebyshev')\n",
    "    knn.fit(X)\n",
    "    d, _ = knn.kneighbors(X)\n",
    "    return d[:, -1]\n",
    "\n",
    "\n",
    "def marginal_neighbors(X, R):\n",
    "    \"\"\"Compute number of neighbors in R-radius ball\"\"\"\n",
    "    knn = NearestNeighbors(metric='chebyshev')\n",
    "    knn.fit(X)\n",
    "    return [len(knn.radius_neighbors(p.reshape(1, -1), r)[0][0])\n",
    "            for p, r in zip(X, R)]\n",
    "\n",
    "\n",
    "def entropy_sk(X, k=False):\n",
    "    \"\"\"Compute entropy H(X1, X2,..., Xn)\"\"\"\n",
    "    try:\n",
    "        n, d = X.shape\n",
    "    except Exception as e:\n",
    "        X = X.reshape(-1, 1)\n",
    "        n, d = X.shape\n",
    "    if not k:\n",
    "        k = 10#int(np.sqrt(n))\n",
    "    eps = 1e-12\n",
    "    r = nearest_distances(X, k) + eps * np.random.random(n)\n",
    "    n, d = X.shape\n",
    "    ent = d * np.log(np.mean(r)) + psi(n) - psi(k) + d * np.log(2)\n",
    "    return ent\n",
    "\n",
    "\n",
    "def mutual_info(x, y, k=False):\n",
    "    \"\"\"Compute I(X; Y)\"\"\"\n",
    "    n = len(x)\n",
    "    if not k:\n",
    "        k = 10#int(np.sqrt(n))\n",
    "    eps = 1e-12\n",
    "    r = nearest_distances(np.array([x, y]).T, k) + eps * np.random.random(n)\n",
    "    n_x = marginal_neighbors(x.reshape(-1,1), r)\n",
    "    n_y = marginal_neighbors(y.reshape(-1,1), r)\n",
    "    psi_x = psi(n_x)\n",
    "    psi_y = psi(n_y)\n",
    "    return (psi(n) + psi(k) - (1./k) - np.mean(psi_x + psi_y))\n",
    "\n",
    "\n",
    "def conditional_mutual_info(X, k=False):\n",
    "    \"\"\"Compute I(X1; X2 | X3:n)\"\"\"\n",
    "    xz = np.array([X[0], *X[2:]]).T\n",
    "    yz = np.array([X[1], *X[2:]]).T\n",
    "    z = np.array(X[2:]).T\n",
    "    d, n = X.shape\n",
    "    if not k:\n",
    "        k = 10\n",
    "    eps = 1e-12\n",
    "    r = nearest_distances(X.T, k) + eps * np.random.random(n)\n",
    "    psi_xz = psi(marginal_neighbors(xz, r))\n",
    "    psi_yz = psi(marginal_neighbors(yz, r))\n",
    "    psi_z = psi(marginal_neighbors(z, r))\n",
    "    return (psi(k) - np.mean(psi_xz + psi_yz - psi_z))\n",
    "\n",
    "def transfer_entropy(X: np.array, lag: int) -> float:\n",
    "    \"\"\"\n",
    "    Computes TE(X2_t; X1_{t-lag} | X2_{t-lag})\n",
    "\n",
    "    Args:\n",
    "        X: A list containing multiple timeseries.\n",
    "           Example: [evap, precip] will compute\n",
    "           the information transferred from precip to evap,\n",
    "        lag: The time-offset to consider (in timesteps).\n",
    "\n",
    "    Returns:\n",
    "        The value of the equation given above.  Small values\n",
    "        denote less of a connection.  Negative values are\n",
    "        possible, but should be thrown out - as they are\n",
    "        numerical artifacts.\n",
    "    \"\"\"\n",
    "    assert len(X) == 2\n",
    "    # Subsample data and put it together with combination list\n",
    "    sample_size = np.min([5000, len(X[0])-lag])\n",
    "    max_start = len(X[0]) - sample_size - lag\n",
    "    idx = np.random.choice(np.arange(len(X[0])) - lag, sample_size)\n",
    "    ans = [X[1][idx]]\n",
    "    ans.append(X[0][idx-lag])\n",
    "    ans.append(X[1][idx-lag])\n",
    "    return conditional_mutual_info(np.array(ans))\n",
    "   \n",
    "\n",
    "def conditional_transfer_entropy(X: np.array, lag: int) -> float:\n",
    "    \"\"\"\n",
    "    Computes TE(X1_t; X2_{t-lag} | X3:n_{t-lag}, X1_{t-lag})\n",
    "\n",
    "    Args:\n",
    "        X: A list containing multiple timeseries.\n",
    "           Example: [evap, precip, runoff] will compute\n",
    "           the information transferred from precip to evap,\n",
    "           eliminating any effects from runoff.\n",
    "        lag: The time-offset to consider (in days).\n",
    "\n",
    "    Returns:\n",
    "        The value of the equation given above.  Small values\n",
    "        denote less of a connection.  Negative values are\n",
    "        possible, but should be thrown out - as they are\n",
    "        numerical artifacts.\n",
    "    \"\"\"\n",
    "    # Need at least 3 variables to compute the TE\n",
    "    assert len(X) > 2\n",
    "    # Subsample data and put it together with combination list\n",
    "    sample_size = np.min([5000, len(X[0])-lag])\n",
    "    max_start = len(X[0]) - sample_size - lag\n",
    "    idx = np.random.choice(np.arange(len(X[0])) - lag, sample_size)\n",
    "    ans = [X[0][idx]]\n",
    "    ans.append(X[1][idx-lag])\n",
    "    for v in X[2:]:\n",
    "        ans.append(v[idx])\n",
    "    ans.append(X[0][idx-lag])\n",
    "    return conditional_mutual_info(np.array(ans))\n"
   ]
  },
  {
   "cell_type": "code",
   "execution_count": 4,
   "metadata": {},
   "outputs": [],
   "source": [
    "wb_vars = ['pptrate', 'scalarGroundEvaporation', 'scalarCanopyEvaporation',\n",
    "           'scalarSnowSublimation', 'scalarCanopySublimation', 'scalarTotalRunoff', \n",
    "           'scalarSWE', 'scalarTotalSoilLiq',  'scalarTotalSoilIce', \n",
    "           'scalarCanopyIce', 'scalarCanopyLiq', 'scalarCanopyTranspiration', \n",
    "           'scalarLatHeatTotal', 'scalarSenHeatTotal', 'airtemp', 'SWRadAtm']\n",
    "\n",
    "wb_dict = {\n",
    "    'precip': ['pptrate'],\n",
    "    'evap': ['scalarGroundEvaporation', 'scalarCanopyEvaporation', 'scalarCanopyTranspiration', \n",
    "             'scalarSnowSublimation', 'scalarCanopySublimation'],\n",
    "    'runoff': ['scalarTotalRunoff'],\n",
    "    'swe': ['scalarSWE'],\n",
    "    'soil_moisture': ['scalarTotalSoilLiq', 'scalarTotalSoilIce'],\n",
    "    'canopy_moisture': ['scalarCanopyIce', 'scalarCanopyLiq'],\n",
    "    'latent_heat': ['scalarLatHeatTotal'],\n",
    "    'sensible_heat': ['scalarSenHeatTotal'],\n",
    "    'temperature': ['airtemp'],\n",
    "    'shortwave': ['SWRadAtm']\n",
    "}\n",
    "\n",
    "wb_multiplier = {\n",
    "    'precip': SEC_PER_TIMESTEP,\n",
    "    'evap': SEC_PER_TIMESTEP,\n",
    "    'runoff': SEC_PER_TIMESTEP * MM_PER_M,\n",
    "    'swe': 1,\n",
    "    'soil_moisture': 1,\n",
    "    'canopy_moisture': 1,\n",
    "    'latent_heat': -1,\n",
    "    'sensible_heat': -1,\n",
    "    'temperature': 1,\n",
    "    'shortwave': 1\n",
    "}"
   ]
  },
  {
   "cell_type": "code",
   "execution_count": 5,
   "metadata": {},
   "outputs": [],
   "source": [
    "def postprocess(ds):\n",
    "    \"\"\"\n",
    "    Aggregate subcomponents and convert units for the\n",
    "    output variables of interest. This also removes\n",
    "    the unnecessary hru dimension\n",
    "    \"\"\"\n",
    "    for k, v in wb_dict.items():\n",
    "        ds[k] = reduce(operator.add, [ds[vv] for vv in v]) * wb_multiplier[k]\n",
    "    ds = ds[list(wb_dict.keys())].isel(hru=0, drop=True)\n",
    "    ds['dswe'] = ds['swe'].diff(dim='time')\n",
    "    ds['dsoil_moisture'] = ds['soil_moisture'].diff(dim='time')\n",
    "    return ds\n",
    "\n",
    "def create_sim_obj(site):\n",
    "    \"\"\"\n",
    "    Create the simulation object for a particular\n",
    "    location and set the necessary output variables\n",
    "    \"\"\"\n",
    "    s = pysumma.Simulation.Simulation(fman_dict[site])\n",
    "    s.executable = '/opt/local/bin/summa.exe'\n",
    "    s.library_path = '$HOME/software/lib:/opt/local/lib:/opt/local/lib64:$LD_LIBRARY_PATH'\n",
    "    o = s.output_control\n",
    "    for v in wb_vars:\n",
    "        o.set_option(v, 1)\n",
    "    o.write()\n",
    "    return s\n",
    "\n",
    "def run_summa(site):\n",
    "    \"\"\"Kick off a SUMMA simulation for a given location\"\"\"\n",
    "    s = create_sim_obj(site)\n",
    "    additional_args = ['export OMP_NUM_THREADS=8']\n",
    "    return s.execute('test', 'local', additional_args)\n",
    "\n",
    "def monitor(proc):\n",
    "    \"\"\"Watch the SUMMA simulation until it has completed\"\"\"\n",
    "    res = proc.wait()\n",
    "    return res, proc.stdout.read(), proc.stderr.read()\n",
    "\n",
    "def set_decision(simulation, decision_key, decision_value):\n",
    "    \"\"\"Change a decision\"\"\"\n",
    "    simulation.decision_obj.__dict__[decision_key].value = decision_value"
   ]
  },
  {
   "cell_type": "code",
   "execution_count": 5,
   "metadata": {},
   "outputs": [],
   "source": [
    "def run_summa(site):\n",
    "    s = create_sim_obj(site)\n",
    "    #s.decision_obj.stomResist.value = 'simpleResistance'\n",
    "    # s.decision_obj.groundwatr = 'noXplict'\n",
    "    #s.decision_obj.bcLowrSoiH.value = 'zeroFlux'\n",
    "    #s.decision_obj.__dict__['rootProfil'].value = 'powerLaw'\n",
    "    #s.decision_obj.__dict__['hc_profile'].value = 'pow_prof'\n",
    "    set_decision(s, 'groundwatr', 'qTopmodl')\n",
    "    set_decision(s, 'bcLowrSoiH', 'zeroFlux')\n",
    "    set_decision(s, 'f_Richards', 'mixdform')\n",
    "    set_decision(s, 'rootProfil', 'powerLaw')\n",
    "    set_decision(s, 'hc_profile', 'pow_prof')\n",
    "    additional_args = ['export OMP_NUM_THREADS=8']\n",
    "    return s.execute('test_simpleResistance_2', 'local', additional_args)"
   ]
  },
  {
   "cell_type": "code",
   "execution_count": 6,
   "metadata": {},
   "outputs": [],
   "source": [
    "def run_combinations2(dataframe, sites):\n",
    "    '''\n",
    "    This function takes a dataframe with summa\n",
    "    decision points as column names, and with each\n",
    "    row representing a summa run with the appropriate\n",
    "    decision options\n",
    "    It also takes an array_like object sites which just\n",
    "    lists the names of the sites for which each summa\n",
    "    combination should be run at.\n",
    "    '''\n",
    "    out_result = []\n",
    "    err_result = []\n",
    "    stdout_result = []\n",
    "    results = []\n",
    "    #name_template = ''\n",
    "    \n",
    "    # assuming we want to run all sites\n",
    "    # another option would be to have a column in the \n",
    "    # dataframe representing the site for each run\n",
    "    for site in sites:\n",
    "        \n",
    "        # for each option combination, set the appropriate\n",
    "        # values in the decision object, then run\n",
    "        for index in dataframe.index.values:\n",
    "            \n",
    "            # set up a simulation object for the site\n",
    "            s = create_sim_obj(site)\n",
    "            additional_args = ['export OMP_NUM_THREADS=8']\n",
    "            set_decision(s, 'groundwatr', 'qTopmodl')\n",
    "            set_decision(s, 'bcLowrSoiH', 'zeroFlux')\n",
    "            set_decision(s, 'f_Richards', 'mixdform')\n",
    "            set_decision(s, 'rootProfil', 'powerLaw')\n",
    "            set_decision(s, 'hc_profile', 'pow_prof')\n",
    "            name = ''\n",
    "            \n",
    "            for decision in dataframe.columns.values:\n",
    "                \n",
    "                print(index, decision, dataframe[decision][index])\n",
    "                set_decision(s, decision, dataframe[decision][index])\n",
    "                name += dataframe[decision][index] + '_'\n",
    "                \n",
    "            # need naming convention for output files\n",
    "            #name +=  name_template.format()\n",
    "            proc, out_file = s.execute(name, 'local', additional_args)\n",
    "            res, out, err = monitor(proc)\n",
    "            results.append(res)\n",
    "            out_result.append(out_file)\n",
    "            stdout_result.append(out)\n",
    "            err_result.append(err)\n",
    "    \n",
    "    return results, out_result, err_result, stdout_result         "
   ]
  },
  {
   "cell_type": "code",
   "execution_count": 7,
   "metadata": {},
   "outputs": [],
   "source": [
    "df1 = pd.DataFrame(columns=['canopyEmis', 'windPrfile', 'stomResist'])"
   ]
  },
  {
   "cell_type": "code",
   "execution_count": 8,
   "metadata": {},
   "outputs": [],
   "source": [
    "dict1 = {'canopyEmis':'simplExp', 'windPrfile':'exponential', 'stomResist':'BallBerry'}"
   ]
  },
  {
   "cell_type": "code",
   "execution_count": 9,
   "metadata": {},
   "outputs": [],
   "source": [
    "dicts = [{'canopyEmis':'simplExp', 'windPrfile':'exponential', 'stomResist':'BallBerry'},\n",
    "         {'canopyEmis':'simplExp', 'windPrfile':'logBelowCanopy', 'stomResist':'BallBerry'},\n",
    "         {'canopyEmis':'difTrans', 'windPrfile':'exponential', 'stomResist':'BallBerry'},\n",
    "         {'canopyEmis':'difTrans', 'windPrfile':'logBelowCanopy', 'stomResist':'BallBerry'}, \n",
    "         {'canopyEmis':'simplExp', 'windPrfile':'exponential', 'stomResist':'Jarvis'},\n",
    "         {'canopyEmis':'simplExp', 'windPrfile':'logBelowCanopy', 'stomResist':'Jarvis'},\n",
    "         {'canopyEmis':'difTrans', 'windPrfile':'exponential', 'stomResist':'Jarvis'},\n",
    "         {'canopyEmis':'difTrans', 'windPrfile':'logBelowCanopy', 'stomResist':'Jarvis'}]"
   ]
  },
  {
   "cell_type": "code",
   "execution_count": 10,
   "metadata": {},
   "outputs": [],
   "source": [
    "df3 = df1.append(dict1, ignore_index=True)"
   ]
  },
  {
   "cell_type": "code",
   "execution_count": 11,
   "metadata": {},
   "outputs": [
    {
     "data": {
      "text/html": [
       "<div>\n",
       "<style scoped>\n",
       "    .dataframe tbody tr th:only-of-type {\n",
       "        vertical-align: middle;\n",
       "    }\n",
       "\n",
       "    .dataframe tbody tr th {\n",
       "        vertical-align: top;\n",
       "    }\n",
       "\n",
       "    .dataframe thead th {\n",
       "        text-align: right;\n",
       "    }\n",
       "</style>\n",
       "<table border=\"1\" class=\"dataframe\">\n",
       "  <thead>\n",
       "    <tr style=\"text-align: right;\">\n",
       "      <th></th>\n",
       "      <th>canopyEmis</th>\n",
       "      <th>windPrfile</th>\n",
       "      <th>stomResist</th>\n",
       "    </tr>\n",
       "  </thead>\n",
       "  <tbody>\n",
       "    <tr>\n",
       "      <th>0</th>\n",
       "      <td>simplExp</td>\n",
       "      <td>exponential</td>\n",
       "      <td>BallBerry</td>\n",
       "    </tr>\n",
       "  </tbody>\n",
       "</table>\n",
       "</div>"
      ],
      "text/plain": [
       "  canopyEmis   windPrfile stomResist\n",
       "0   simplExp  exponential  BallBerry"
      ]
     },
     "execution_count": 11,
     "metadata": {},
     "output_type": "execute_result"
    }
   ],
   "source": [
    "df3"
   ]
  },
  {
   "cell_type": "code",
   "execution_count": 12,
   "metadata": {},
   "outputs": [],
   "source": [
    "df2 = df1.append(dicts)"
   ]
  },
  {
   "cell_type": "code",
   "execution_count": 13,
   "metadata": {},
   "outputs": [
    {
     "data": {
      "text/html": [
       "<div>\n",
       "<style scoped>\n",
       "    .dataframe tbody tr th:only-of-type {\n",
       "        vertical-align: middle;\n",
       "    }\n",
       "\n",
       "    .dataframe tbody tr th {\n",
       "        vertical-align: top;\n",
       "    }\n",
       "\n",
       "    .dataframe thead th {\n",
       "        text-align: right;\n",
       "    }\n",
       "</style>\n",
       "<table border=\"1\" class=\"dataframe\">\n",
       "  <thead>\n",
       "    <tr style=\"text-align: right;\">\n",
       "      <th></th>\n",
       "      <th>canopyEmis</th>\n",
       "      <th>windPrfile</th>\n",
       "      <th>stomResist</th>\n",
       "    </tr>\n",
       "  </thead>\n",
       "  <tbody>\n",
       "    <tr>\n",
       "      <th>0</th>\n",
       "      <td>simplExp</td>\n",
       "      <td>exponential</td>\n",
       "      <td>BallBerry</td>\n",
       "    </tr>\n",
       "    <tr>\n",
       "      <th>1</th>\n",
       "      <td>simplExp</td>\n",
       "      <td>logBelowCanopy</td>\n",
       "      <td>BallBerry</td>\n",
       "    </tr>\n",
       "    <tr>\n",
       "      <th>2</th>\n",
       "      <td>difTrans</td>\n",
       "      <td>exponential</td>\n",
       "      <td>BallBerry</td>\n",
       "    </tr>\n",
       "    <tr>\n",
       "      <th>3</th>\n",
       "      <td>difTrans</td>\n",
       "      <td>logBelowCanopy</td>\n",
       "      <td>BallBerry</td>\n",
       "    </tr>\n",
       "    <tr>\n",
       "      <th>4</th>\n",
       "      <td>simplExp</td>\n",
       "      <td>exponential</td>\n",
       "      <td>Jarvis</td>\n",
       "    </tr>\n",
       "    <tr>\n",
       "      <th>5</th>\n",
       "      <td>simplExp</td>\n",
       "      <td>logBelowCanopy</td>\n",
       "      <td>Jarvis</td>\n",
       "    </tr>\n",
       "    <tr>\n",
       "      <th>6</th>\n",
       "      <td>difTrans</td>\n",
       "      <td>exponential</td>\n",
       "      <td>Jarvis</td>\n",
       "    </tr>\n",
       "    <tr>\n",
       "      <th>7</th>\n",
       "      <td>difTrans</td>\n",
       "      <td>logBelowCanopy</td>\n",
       "      <td>Jarvis</td>\n",
       "    </tr>\n",
       "  </tbody>\n",
       "</table>\n",
       "</div>"
      ],
      "text/plain": [
       "  canopyEmis      windPrfile stomResist\n",
       "0   simplExp     exponential  BallBerry\n",
       "1   simplExp  logBelowCanopy  BallBerry\n",
       "2   difTrans     exponential  BallBerry\n",
       "3   difTrans  logBelowCanopy  BallBerry\n",
       "4   simplExp     exponential     Jarvis\n",
       "5   simplExp  logBelowCanopy     Jarvis\n",
       "6   difTrans     exponential     Jarvis\n",
       "7   difTrans  logBelowCanopy     Jarvis"
      ]
     },
     "execution_count": 13,
     "metadata": {},
     "output_type": "execute_result"
    }
   ],
   "source": [
    "df2"
   ]
  },
  {
   "cell_type": "code",
   "execution_count": 14,
   "metadata": {},
   "outputs": [],
   "source": [
    "sites_short = ['Sylvania']"
   ]
  },
  {
   "cell_type": "code",
   "execution_count": 15,
   "metadata": {},
   "outputs": [
    {
     "name": "stdout",
     "output_type": "stream",
     "text": [
      "0 canopyEmis simplExp\n",
      "0 windPrfile exponential\n",
      "0 stomResist BallBerry\n",
      "export LD_LIBRARY_PATH=\"$HOME/software/lib:/opt/local/lib:/opt/local/lib64:$LD_LIBRARY_PATH\" && export OMP_NUM_THREADS=8\n",
      "export LD_LIBRARY_PATH=\"$HOME/software/lib:/opt/local/lib:/opt/local/lib64:$LD_LIBRARY_PATH\" && export OMP_NUM_THREADS=8 && /opt/local/bin/summa.exe -p never -s simplExp_exponential_BallBerry_ -m /pool0/data/tushark/PLUMBER_data/sites/Sylvania/settings/summa_zFileManager_Sylvania.txt\n"
     ]
    }
   ],
   "source": [
    "res, file, err, out = run_combinations2(df3, sites_short)\n",
    "for number in res:\n",
    "    if number > 0:\n",
    "        print(out)\n",
    "        print(err)"
   ]
  },
  {
   "cell_type": "code",
   "execution_count": 16,
   "metadata": {},
   "outputs": [
    {
     "data": {
      "text/plain": [
       "['/data/tushark/PLUMBER_data/sites/Sylvania/summa_output/Sylvania_output_simplExp_exponential_BallBerry__timestep.nc']"
      ]
     },
     "execution_count": 16,
     "metadata": {},
     "output_type": "execute_result"
    }
   ],
   "source": [
    "file"
   ]
  },
  {
   "cell_type": "raw",
   "metadata": {},
   "source": [
    "out_files = glob.glob('../sites/**/summa_output/*output*.nc', recursive=True)\n",
    "bench_files = glob.glob('../sites/**/benchmark/*.nc', recursive=True)\n",
    "obs_files = glob.glob('../sites/**/observations/fluxes/*.nc', recursive=True)\n",
    "met_files = glob.glob('../sites/**/observations/met/*.nc', recursive=True)\n",
    "\n",
    "output =  postprocess(xr.open_dataset('../sites/Tumba/summa_output/Tumba_output_test_topmodl_timestep.nc'))\n",
    "\n",
    "obs = xr.open_dataset(obs_files[0])\n",
    "bench = xr.open_dataset(bench_files[0])\n",
    "met = xr.open_dataset(met_files[0])\n",
    "\n",
    "ts = slice(2000, 2200)\n",
    "obs['Qle'].isel(time=ts).plot(label='observed', linewidth=2)\n",
    "bench['Qle_1lin'].isel(time=ts).plot(label='linear_regression', linewidth=2)\n",
    "bench['Qle_3km27'].isel(time=ts).plot(label='nonlinear_regression', linewidth=2)\n",
    "output['latent_heat'].isel(time=ts).plot(label='summa', linewidth=2)\n",
    "plt.legend()"
   ]
  },
  {
   "cell_type": "code",
   "execution_count": 17,
   "metadata": {},
   "outputs": [
    {
     "data": {
      "text/plain": [
       "'/data/tushark/PLUMBER_data/sites/Sylvania/summa_output/Sylvania_output_simplExp_exponential_BallBerry__timestep.nc'"
      ]
     },
     "execution_count": 17,
     "metadata": {},
     "output_type": "execute_result"
    }
   ],
   "source": [
    "file[0]"
   ]
  },
  {
   "cell_type": "code",
   "execution_count": 19,
   "metadata": {},
   "outputs": [
    {
     "data": {
      "text/plain": [
       "['/pool0/data/tushark/PLUMBER_data/sites/ElSaler2/benchmark/ElSaler2Fluxnet_1.4_PLUMBER_benchmarks.nc',\n",
       " '/pool0/data/tushark/PLUMBER_data/sites/Howlandm/benchmark/HowlandmFluxnet_1.4_PLUMBER_benchmarks.nc',\n",
       " '/pool0/data/tushark/PLUMBER_data/sites/Merbleue/benchmark/MerbleueFluxnet_1.4_PLUMBER_benchmarks.nc',\n",
       " '/pool0/data/tushark/PLUMBER_data/sites/Sylvania/benchmark/SylvaniaFluxnet_1.4_PLUMBER_benchmarks.nc',\n",
       " '/pool0/data/tushark/PLUMBER_data/sites/Amplero/benchmark/AmpleroFluxnet_1.4_PLUMBER_benchmarks.nc',\n",
       " '/pool0/data/tushark/PLUMBER_data/sites/Kruger/benchmark/KrugerFluxnet_1.4_PLUMBER_benchmarks.nc',\n",
       " '/pool0/data/tushark/PLUMBER_data/sites/FortPeck/benchmark/FortPeckFluxnet_1.4_PLUMBER_benchmarks.nc',\n",
       " '/pool0/data/tushark/PLUMBER_data/sites/Bugac/benchmark/BugacFluxnet_1.4_PLUMBER_benchmarks.nc',\n",
       " '/pool0/data/tushark/PLUMBER_data/sites/UniMich/benchmark/UniMichFluxnet_1.4_PLUMBER_benchmarks.nc',\n",
       " '/pool0/data/tushark/PLUMBER_data/sites/ElSaler/benchmark/ElSalerFluxnet_1.4_PLUMBER_benchmarks.nc',\n",
       " '/pool0/data/tushark/PLUMBER_data/sites/Espirra/benchmark/EspirraFluxnet_1.4_PLUMBER_benchmarks.nc',\n",
       " '/pool0/data/tushark/PLUMBER_data/sites/Howard/benchmark/HowardFluxnet_1.4_PLUMBER_benchmarks.nc',\n",
       " '/pool0/data/tushark/PLUMBER_data/sites/Blodgett/benchmark/BlodgettFluxnet_1.4_PLUMBER_benchmarks.nc',\n",
       " '/pool0/data/tushark/PLUMBER_data/sites/Loobos/benchmark/LoobosFluxnet_1.4_PLUMBER_benchmarks.nc',\n",
       " '/pool0/data/tushark/PLUMBER_data/sites/Tumba/benchmark/TumbaFluxnet_1.4_PLUMBER_benchmarks.nc',\n",
       " '/pool0/data/tushark/PLUMBER_data/sites/Hesse/benchmark/HesseFluxnet_1.4_PLUMBER_benchmarks.nc',\n",
       " '/pool0/data/tushark/PLUMBER_data/sites/Palang/benchmark/PalangFluxnet_1.4_PLUMBER_benchmarks.nc',\n",
       " '/pool0/data/tushark/PLUMBER_data/sites/Harvard/benchmark/HarvardFluxnet_1.4_PLUMBER_benchmarks.nc',\n",
       " '/pool0/data/tushark/PLUMBER_data/sites/Hyytiala/benchmark/HyytialaFluxnet_1.4_PLUMBER_benchmarks.nc',\n",
       " '/pool0/data/tushark/PLUMBER_data/sites/Mopane/benchmark/MopaneFluxnet_1.4_PLUMBER_benchmarks.nc']"
      ]
     },
     "execution_count": 19,
     "metadata": {},
     "output_type": "execute_result"
    }
   ],
   "source": [
    "bench_files"
   ]
  },
  {
   "cell_type": "code",
   "execution_count": 20,
   "metadata": {},
   "outputs": [
    {
     "data": {
      "text/plain": [
       "<matplotlib.legend.Legend at 0x7fa11b9dff98>"
      ]
     },
     "execution_count": 20,
     "metadata": {},
     "output_type": "execute_result"
    },
    {
     "data": {
      "image/png": "[encoded data removed]",
      "text/plain": [
       "<matplotlib.figure.Figure at 0x7fa11bae6470>"
      ]
     },
     "metadata": {},
     "output_type": "display_data"
    }
   ],
   "source": [
    "out_files = glob.glob('/pool0/data/tushark/PLUMBER_data/sites/**/summa_output/*output*.nc', recursive=True)\n",
    "bench_files = glob.glob('/pool0/data/tushark/PLUMBER_data/sites/**/benchmark/*.nc', recursive=True)\n",
    "obs_files = glob.glob('/pool0/data/tushark/PLUMBER_data/sites/**/observations/fluxes/*.nc', recursive=True)\n",
    "met_files = glob.glob('/pool0/data/tushark/PLUMBER_data/sites/**/observations/met/*.nc', recursive=True)\n",
    "\n",
    "\n",
    "\n",
    "output =  postprocess(xr.open_dataset('/pool0/data/tushark/PLUMBER_data/sites/Sylvania/summa_output/Sylvania_output_simplExp_exponential_BallBerry_timestep.nc'))\n",
    "\n",
    "obs = xr.open_dataset(obs_files[3])\n",
    "bench = xr.open_dataset(bench_files[3])\n",
    "met = xr.open_dataset(met_files[3])\n",
    "\n",
    "ts = slice(2000, 2200)\n",
    "obs['Qle'].isel(time=ts).plot(label='observed', linewidth=2)\n",
    "bench['Qle_1lin'].isel(time=ts).plot(label='linear_regression', linewidth=2)\n",
    "bench['Qle_3km27'].isel(time=ts).plot(label='nonlinear_regression', linewidth=2)\n",
    "(-output['latent_heat']).isel(time=ts).plot(label='summa', linewidth=2)\n",
    "plt.legend()"
   ]
  },
  {
   "cell_type": "code",
   "execution_count": 23,
   "metadata": {},
   "outputs": [
    {
     "data": {
      "text/plain": [
       "<matplotlib.legend.Legend at 0x7fa1132060f0>"
      ]
     },
     "execution_count": 23,
     "metadata": {},
     "output_type": "execute_result"
    },
    {
     "data": {
      "image/png": "[encoded data removed]",
      "text/plain": [
       "<matplotlib.figure.Figure at 0x7fa113246908>"
      ]
     },
     "metadata": {},
     "output_type": "display_data"
    }
   ],
   "source": [
    "obs['Qh'].isel(time=ts).plot(label='observed', linewidth=2)\n",
    "bench['Qh_1lin'].isel(time=ts).plot(label='linear_regression', linewidth=2)\n",
    "bench['Qh_3km27'].isel(time=ts).plot(label='nonlinear_regression', linewidth=2)\n",
    "(output['sensible_heat']).isel(time=ts).plot(label='summa', linewidth=2)\n",
    "plt.legend()"
   ]
  },
  {
   "cell_type": "code",
   "execution_count": 25,
   "metadata": {},
   "outputs": [
    {
     "data": {
      "text/plain": [
       "['Amplero', 'Blodgett', 'ElSaler']"
      ]
     },
     "execution_count": 25,
     "metadata": {},
     "output_type": "execute_result"
    }
   ],
   "source": [
    "soil_moisture_sites[:3]"
   ]
  },
  {
   "cell_type": "code",
   "execution_count": 26,
   "metadata": {},
   "outputs": [],
   "source": [
    "res1 = res\n",
    "file1 = file\n",
    "err1 = err\n",
    "out1 = out"
   ]
  },
  {
   "cell_type": "code",
   "execution_count": 27,
   "metadata": {},
   "outputs": [
    {
     "data": {
      "text/plain": [
       "[b\"file_suffix is 'simplExp_exponential_BallBerry_'.\\nfile_master is '/pool0/data/tushark/PLUMBER_data/sites/Sylvania/settings/summa_zFileManager_Sylvania.txt'.\\nstart at 13:17:50\\nName of Model Output control file: /data/tushark/PLUMBER_data/sites/Sylvania/settings/meta/summa_zModelOutput.txt\\ndecisions file =  /data/tushark/PLUMBER_data/sites/Sylvania/settings/summa_zDecisions_Sylvania.txt\\n   1 simulStart: 2002-01-01 00:30\\n   2 simulFinsh: 2006-01-01 00:00\\n   3 soilCatTbl: ROSETTA\\n   4 vegeParTbl: USGS\\n   5 soilStress: NoahType\\n   6 stomResist: BallBerry\\n   7 bbTempFunc: q10Func\\n   8 bbHumdFunc: humidLeafSurface\\n   9 bbElecFunc: linear\\n  10 bbCO2point: origBWB\\n  11 bbNumerics: NoahMPsolution\\n  12 bbAssimFnc: minFunc\\n  13 bbCanIntg8: constantScaling\\n  14 num_method: itertive\\n  15 fDerivMeth: analytic\\n  16 LAI_method: monTable\\n  17 cIntercept: storageFunc\\n  18 f_Richards: mixdform\\n  19 groundwatr: qTopmodl\\n  20 hc_profile: pow_prof\\n  21 bcUpprTdyn: nrg_flux\\n  22 bcLowrTdyn: presTemp\\n  23 bcUpprSoiH: liq_flux\\n  24 bcLowrSoiH: zeroFlux\\n  25 veg_traits: CM_QJRMS1988\\n  26 rootProfil: powerLaw\\n  27 canopyEmis: simplExp\\n  28 snowIncept: lightSnow\\n  29 windPrfile: exponential\\n  30 astability: louisinv\\n  31 canopySrad: CLM_2stream\\n  32 alb_method: varDecay\\n  33 compaction: anderson\\n  34 snowLayers: CLM_2010\\n  35 thCondSnow: jrdn1991\\n  36 thCondSoil: funcSoilWet\\n  37 spatial_gw: localColumn\\n  38 subRouting: timeDlay\\nstartTime: iyyy, im, id, ih, imin = 2002  1  1  0 30\\nfinshTime: iyyy, im, id, ih, imin = 2006  1  1  0  0\\n/data/tushark/PLUMBER_data/sites/Sylvania/settings/summa_zLocalParamInfo.txt\\n/data/tushark/PLUMBER_data/sites/Sylvania/settings/summa_zBasinParamInfo.txt\\nSkipping over SLTYPE = STAS\\nSkipping over SLTYPE = STAS-RUC\\n hruIndex\\n frozenPrecipMultip\\n heightCanopyTop\\n heightCanopyBottom\\n critSoilWilting\\n critSoilTranspire\\n theta_res\\n theta_sat\\n theta_mp\\n fieldCapacity\\n k_soil\\n k_macropore\\n lowerBoundTemp\\nCreated output file:/data/tushark/PLUMBER_data/sites/Sylvania/summa_output/Sylvania_output_simplExp_exponential_BallBerry_timestep.nc\\n\\ninitial date/time = 2018-05-03  13:17:50.128\\n  final date/time = 2018-05-03  13:18:38.409\\n\\n     elapsed init =   7.2000000E-02 s\\n    fraction init =   1.4912699E-03 s\\n\\n     elapsed read =    8.286000     s\\n    fraction read =   0.1716203     s\\n\\n    elapsed write =    12.21400     s\\n   fraction write =   0.2529774     s\\n\\n  elapsed physics =    27.51900     s\\n fraction physics =   0.5699758     s\\n\\n     elapsed time =    48.28100     s\\n       or             0.8046833     m\\n       or             1.3411389E-02 h\\n       or             5.5880787E-04 d\\n\\n   number threads =          8\\n\\n FORTRAN STOP: finished simulation successfully.\\n\"]"
      ]
     },
     "execution_count": 27,
     "metadata": {},
     "output_type": "execute_result"
    }
   ],
   "source": [
    "out1"
   ]
  },
  {
   "cell_type": "code",
   "execution_count": 28,
   "metadata": {},
   "outputs": [
    {
     "name": "stdout",
     "output_type": "stream",
     "text": [
      "0 canopyEmis simplExp\n",
      "0 windPrfile exponential\n",
      "0 stomResist BallBerry\n",
      "export LD_LIBRARY_PATH=\"$HOME/software/lib:/opt/local/lib:/opt/local/lib64:$LD_LIBRARY_PATH\" && export OMP_NUM_THREADS=8\n",
      "export LD_LIBRARY_PATH=\"$HOME/software/lib:/opt/local/lib:/opt/local/lib64:$LD_LIBRARY_PATH\" && export OMP_NUM_THREADS=8 && /opt/local/bin/summa.exe -p never -s simplExp_exponential_BallBerry_ -m /pool0/data/tushark/PLUMBER_data/sites/Amplero/settings/summa_zFileManager_Amplero.txt\n",
      "1 canopyEmis simplExp\n",
      "1 windPrfile logBelowCanopy\n",
      "1 stomResist BallBerry\n",
      "export LD_LIBRARY_PATH=\"$HOME/software/lib:/opt/local/lib:/opt/local/lib64:$LD_LIBRARY_PATH\" && export OMP_NUM_THREADS=8\n",
      "export LD_LIBRARY_PATH=\"$HOME/software/lib:/opt/local/lib:/opt/local/lib64:$LD_LIBRARY_PATH\" && export OMP_NUM_THREADS=8 && /opt/local/bin/summa.exe -p never -s simplExp_logBelowCanopy_BallBerry_ -m /pool0/data/tushark/PLUMBER_data/sites/Amplero/settings/summa_zFileManager_Amplero.txt\n",
      "2 canopyEmis difTrans\n",
      "2 windPrfile exponential\n",
      "2 stomResist BallBerry\n",
      "export LD_LIBRARY_PATH=\"$HOME/software/lib:/opt/local/lib:/opt/local/lib64:$LD_LIBRARY_PATH\" && export OMP_NUM_THREADS=8\n",
      "export LD_LIBRARY_PATH=\"$HOME/software/lib:/opt/local/lib:/opt/local/lib64:$LD_LIBRARY_PATH\" && export OMP_NUM_THREADS=8 && /opt/local/bin/summa.exe -p never -s difTrans_exponential_BallBerry_ -m /pool0/data/tushark/PLUMBER_data/sites/Amplero/settings/summa_zFileManager_Amplero.txt\n",
      "3 canopyEmis difTrans\n",
      "3 windPrfile logBelowCanopy\n",
      "3 stomResist BallBerry\n",
      "export LD_LIBRARY_PATH=\"$HOME/software/lib:/opt/local/lib:/opt/local/lib64:$LD_LIBRARY_PATH\" && export OMP_NUM_THREADS=8\n",
      "export LD_LIBRARY_PATH=\"$HOME/software/lib:/opt/local/lib:/opt/local/lib64:$LD_LIBRARY_PATH\" && export OMP_NUM_THREADS=8 && /opt/local/bin/summa.exe -p never -s difTrans_logBelowCanopy_BallBerry_ -m /pool0/data/tushark/PLUMBER_data/sites/Amplero/settings/summa_zFileManager_Amplero.txt\n",
      "4 canopyEmis simplExp\n",
      "4 windPrfile exponential\n",
      "4 stomResist Jarvis\n",
      "export LD_LIBRARY_PATH=\"$HOME/software/lib:/opt/local/lib:/opt/local/lib64:$LD_LIBRARY_PATH\" && export OMP_NUM_THREADS=8\n",
      "export LD_LIBRARY_PATH=\"$HOME/software/lib:/opt/local/lib:/opt/local/lib64:$LD_LIBRARY_PATH\" && export OMP_NUM_THREADS=8 && /opt/local/bin/summa.exe -p never -s simplExp_exponential_Jarvis_ -m /pool0/data/tushark/PLUMBER_data/sites/Amplero/settings/summa_zFileManager_Amplero.txt\n",
      "5 canopyEmis simplExp\n",
      "5 windPrfile logBelowCanopy\n",
      "5 stomResist Jarvis\n",
      "export LD_LIBRARY_PATH=\"$HOME/software/lib:/opt/local/lib:/opt/local/lib64:$LD_LIBRARY_PATH\" && export OMP_NUM_THREADS=8\n",
      "export LD_LIBRARY_PATH=\"$HOME/software/lib:/opt/local/lib:/opt/local/lib64:$LD_LIBRARY_PATH\" && export OMP_NUM_THREADS=8 && /opt/local/bin/summa.exe -p never -s simplExp_logBelowCanopy_Jarvis_ -m /pool0/data/tushark/PLUMBER_data/sites/Amplero/settings/summa_zFileManager_Amplero.txt\n",
      "6 canopyEmis difTrans\n",
      "6 windPrfile exponential\n",
      "6 stomResist Jarvis\n",
      "export LD_LIBRARY_PATH=\"$HOME/software/lib:/opt/local/lib:/opt/local/lib64:$LD_LIBRARY_PATH\" && export OMP_NUM_THREADS=8\n",
      "export LD_LIBRARY_PATH=\"$HOME/software/lib:/opt/local/lib:/opt/local/lib64:$LD_LIBRARY_PATH\" && export OMP_NUM_THREADS=8 && /opt/local/bin/summa.exe -p never -s difTrans_exponential_Jarvis_ -m /pool0/data/tushark/PLUMBER_data/sites/Amplero/settings/summa_zFileManager_Amplero.txt\n",
      "7 canopyEmis difTrans\n",
      "7 windPrfile logBelowCanopy\n",
      "7 stomResist Jarvis\n",
      "export LD_LIBRARY_PATH=\"$HOME/software/lib:/opt/local/lib:/opt/local/lib64:$LD_LIBRARY_PATH\" && export OMP_NUM_THREADS=8\n",
      "export LD_LIBRARY_PATH=\"$HOME/software/lib:/opt/local/lib:/opt/local/lib64:$LD_LIBRARY_PATH\" && export OMP_NUM_THREADS=8 && /opt/local/bin/summa.exe -p never -s difTrans_logBelowCanopy_Jarvis_ -m /pool0/data/tushark/PLUMBER_data/sites/Amplero/settings/summa_zFileManager_Amplero.txt\n",
      "0 canopyEmis simplExp\n",
      "0 windPrfile exponential\n",
      "0 stomResist BallBerry\n",
      "export LD_LIBRARY_PATH=\"$HOME/software/lib:/opt/local/lib:/opt/local/lib64:$LD_LIBRARY_PATH\" && export OMP_NUM_THREADS=8\n",
      "export LD_LIBRARY_PATH=\"$HOME/software/lib:/opt/local/lib:/opt/local/lib64:$LD_LIBRARY_PATH\" && export OMP_NUM_THREADS=8 && /opt/local/bin/summa.exe -p never -s simplExp_exponential_BallBerry_ -m /pool0/data/tushark/PLUMBER_data/sites/Blodgett/settings/summa_zFileManager_Blodgett.txt\n",
      "1 canopyEmis simplExp\n",
      "1 windPrfile logBelowCanopy\n",
      "1 stomResist BallBerry\n",
      "export LD_LIBRARY_PATH=\"$HOME/software/lib:/opt/local/lib:/opt/local/lib64:$LD_LIBRARY_PATH\" && export OMP_NUM_THREADS=8\n",
      "export LD_LIBRARY_PATH=\"$HOME/software/lib:/opt/local/lib:/opt/local/lib64:$LD_LIBRARY_PATH\" && export OMP_NUM_THREADS=8 && /opt/local/bin/summa.exe -p never -s simplExp_logBelowCanopy_BallBerry_ -m /pool0/data/tushark/PLUMBER_data/sites/Blodgett/settings/summa_zFileManager_Blodgett.txt\n",
      "2 canopyEmis difTrans\n",
      "2 windPrfile exponential\n",
      "2 stomResist BallBerry\n",
      "export LD_LIBRARY_PATH=\"$HOME/software/lib:/opt/local/lib:/opt/local/lib64:$LD_LIBRARY_PATH\" && export OMP_NUM_THREADS=8\n",
      "export LD_LIBRARY_PATH=\"$HOME/software/lib:/opt/local/lib:/opt/local/lib64:$LD_LIBRARY_PATH\" && export OMP_NUM_THREADS=8 && /opt/local/bin/summa.exe -p never -s difTrans_exponential_BallBerry_ -m /pool0/data/tushark/PLUMBER_data/sites/Blodgett/settings/summa_zFileManager_Blodgett.txt\n",
      "3 canopyEmis difTrans\n",
      "3 windPrfile logBelowCanopy\n",
      "3 stomResist BallBerry\n",
      "export LD_LIBRARY_PATH=\"$HOME/software/lib:/opt/local/lib:/opt/local/lib64:$LD_LIBRARY_PATH\" && export OMP_NUM_THREADS=8\n",
      "export LD_LIBRARY_PATH=\"$HOME/software/lib:/opt/local/lib:/opt/local/lib64:$LD_LIBRARY_PATH\" && export OMP_NUM_THREADS=8 && /opt/local/bin/summa.exe -p never -s difTrans_logBelowCanopy_BallBerry_ -m /pool0/data/tushark/PLUMBER_data/sites/Blodgett/settings/summa_zFileManager_Blodgett.txt\n",
      "4 canopyEmis simplExp\n",
      "4 windPrfile exponential\n",
      "4 stomResist Jarvis\n",
      "export LD_LIBRARY_PATH=\"$HOME/software/lib:/opt/local/lib:/opt/local/lib64:$LD_LIBRARY_PATH\" && export OMP_NUM_THREADS=8\n",
      "export LD_LIBRARY_PATH=\"$HOME/software/lib:/opt/local/lib:/opt/local/lib64:$LD_LIBRARY_PATH\" && export OMP_NUM_THREADS=8 && /opt/local/bin/summa.exe -p never -s simplExp_exponential_Jarvis_ -m /pool0/data/tushark/PLUMBER_data/sites/Blodgett/settings/summa_zFileManager_Blodgett.txt\n",
      "5 canopyEmis simplExp\n",
      "5 windPrfile logBelowCanopy\n",
      "5 stomResist Jarvis\n",
      "export LD_LIBRARY_PATH=\"$HOME/software/lib:/opt/local/lib:/opt/local/lib64:$LD_LIBRARY_PATH\" && export OMP_NUM_THREADS=8\n",
      "export LD_LIBRARY_PATH=\"$HOME/software/lib:/opt/local/lib:/opt/local/lib64:$LD_LIBRARY_PATH\" && export OMP_NUM_THREADS=8 && /opt/local/bin/summa.exe -p never -s simplExp_logBelowCanopy_Jarvis_ -m /pool0/data/tushark/PLUMBER_data/sites/Blodgett/settings/summa_zFileManager_Blodgett.txt\n",
      "7 canopyEmis difTrans\n",
      "7 windPrfile logBelowCanopy\n",
      "7 stomResist Jarvis\n",
      "export LD_LIBRARY_PATH=\"$HOME/software/lib:/opt/local/lib:/opt/local/lib64:$LD_LIBRARY_PATH\" && export OMP_NUM_THREADS=8\n",
      "export LD_LIBRARY_PATH=\"$HOME/software/lib:/opt/local/lib:/opt/local/lib64:$LD_LIBRARY_PATH\" && export OMP_NUM_THREADS=8 && /opt/local/bin/summa.exe -p never -s difTrans_logBelowCanopy_Jarvis_ -m /pool0/data/tushark/PLUMBER_data/sites/Blodgett/settings/summa_zFileManager_Blodgett.txt\n",
      "0 canopyEmis simplExp\n",
      "0 windPrfile exponential\n",
      "0 stomResist BallBerry\n",
      "export LD_LIBRARY_PATH=\"$HOME/software/lib:/opt/local/lib:/opt/local/lib64:$LD_LIBRARY_PATH\" && export OMP_NUM_THREADS=8\n",
      "export LD_LIBRARY_PATH=\"$HOME/software/lib:/opt/local/lib:/opt/local/lib64:$LD_LIBRARY_PATH\" && export OMP_NUM_THREADS=8 && /opt/local/bin/summa.exe -p never -s simplExp_exponential_BallBerry_ -m /pool0/data/tushark/PLUMBER_data/sites/ElSaler/settings/summa_zFileManager_ElSaler.txt\n",
      "1 canopyEmis simplExp\n",
      "1 windPrfile logBelowCanopy\n",
      "1 stomResist BallBerry\n",
      "export LD_LIBRARY_PATH=\"$HOME/software/lib:/opt/local/lib:/opt/local/lib64:$LD_LIBRARY_PATH\" && export OMP_NUM_THREADS=8\n",
      "export LD_LIBRARY_PATH=\"$HOME/software/lib:/opt/local/lib:/opt/local/lib64:$LD_LIBRARY_PATH\" && export OMP_NUM_THREADS=8 && /opt/local/bin/summa.exe -p never -s simplExp_logBelowCanopy_BallBerry_ -m /pool0/data/tushark/PLUMBER_data/sites/ElSaler/settings/summa_zFileManager_ElSaler.txt\n",
      "2 canopyEmis difTrans\n",
      "2 windPrfile exponential\n",
      "2 stomResist BallBerry\n",
      "export LD_LIBRARY_PATH=\"$HOME/software/lib:/opt/local/lib:/opt/local/lib64:$LD_LIBRARY_PATH\" && export OMP_NUM_THREADS=8\n",
      "export LD_LIBRARY_PATH=\"$HOME/software/lib:/opt/local/lib:/opt/local/lib64:$LD_LIBRARY_PATH\" && export OMP_NUM_THREADS=8 && /opt/local/bin/summa.exe -p never -s difTrans_exponential_BallBerry_ -m /pool0/data/tushark/PLUMBER_data/sites/ElSaler/settings/summa_zFileManager_ElSaler.txt\n",
      "3 canopyEmis difTrans\n",
      "3 windPrfile logBelowCanopy\n",
      "3 stomResist BallBerry\n",
      "export LD_LIBRARY_PATH=\"$HOME/software/lib:/opt/local/lib:/opt/local/lib64:$LD_LIBRARY_PATH\" && export OMP_NUM_THREADS=8\n",
      "export LD_LIBRARY_PATH=\"$HOME/software/lib:/opt/local/lib:/opt/local/lib64:$LD_LIBRARY_PATH\" && export OMP_NUM_THREADS=8 && /opt/local/bin/summa.exe -p never -s difTrans_logBelowCanopy_BallBerry_ -m /pool0/data/tushark/PLUMBER_data/sites/ElSaler/settings/summa_zFileManager_ElSaler.txt\n",
      "4 canopyEmis simplExp\n",
      "4 windPrfile exponential\n",
      "4 stomResist Jarvis\n",
      "export LD_LIBRARY_PATH=\"$HOME/software/lib:/opt/local/lib:/opt/local/lib64:$LD_LIBRARY_PATH\" && export OMP_NUM_THREADS=8\n",
      "export LD_LIBRARY_PATH=\"$HOME/software/lib:/opt/local/lib:/opt/local/lib64:$LD_LIBRARY_PATH\" && export OMP_NUM_THREADS=8 && /opt/local/bin/summa.exe -p never -s simplExp_exponential_Jarvis_ -m /pool0/data/tushark/PLUMBER_data/sites/ElSaler/settings/summa_zFileManager_ElSaler.txt\n",
      "5 canopyEmis simplExp\n",
      "5 windPrfile logBelowCanopy\n",
      "5 stomResist Jarvis\n",
      "export LD_LIBRARY_PATH=\"$HOME/software/lib:/opt/local/lib:/opt/local/lib64:$LD_LIBRARY_PATH\" && export OMP_NUM_THREADS=8\n",
      "export LD_LIBRARY_PATH=\"$HOME/software/lib:/opt/local/lib:/opt/local/lib64:$LD_LIBRARY_PATH\" && export OMP_NUM_THREADS=8 && /opt/local/bin/summa.exe -p never -s simplExp_logBelowCanopy_Jarvis_ -m /pool0/data/tushark/PLUMBER_data/sites/ElSaler/settings/summa_zFileManager_ElSaler.txt\n",
      "6 canopyEmis difTrans\n",
      "6 windPrfile exponential\n",
      "6 stomResist Jarvis\n",
      "export LD_LIBRARY_PATH=\"$HOME/software/lib:/opt/local/lib:/opt/local/lib64:$LD_LIBRARY_PATH\" && export OMP_NUM_THREADS=8\n",
      "export LD_LIBRARY_PATH=\"$HOME/software/lib:/opt/local/lib:/opt/local/lib64:$LD_LIBRARY_PATH\" && export OMP_NUM_THREADS=8 && /opt/local/bin/summa.exe -p never -s difTrans_exponential_Jarvis_ -m /pool0/data/tushark/PLUMBER_data/sites/ElSaler/settings/summa_zFileManager_ElSaler.txt\n",
      "7 canopyEmis difTrans\n",
      "7 windPrfile logBelowCanopy\n",
      "7 stomResist Jarvis\n",
      "export LD_LIBRARY_PATH=\"$HOME/software/lib:/opt/local/lib:/opt/local/lib64:$LD_LIBRARY_PATH\" && export OMP_NUM_THREADS=8\n",
      "export LD_LIBRARY_PATH=\"$HOME/software/lib:/opt/local/lib:/opt/local/lib64:$LD_LIBRARY_PATH\" && export OMP_NUM_THREADS=8 && /opt/local/bin/summa.exe -p never -s difTrans_logBelowCanopy_Jarvis_ -m /pool0/data/tushark/PLUMBER_data/sites/ElSaler/settings/summa_zFileManager_ElSaler.txt\n"
     ]
    }
   ],
   "source": [
    "res2, file2, err2, out2 = run_combinations2(df2, soil_moisture_sites[:3])\n",
    "for number in res:\n",
    "    if number > 0:\n",
    "        print(out)\n",
    "        print(err)"
   ]
  },
  {
   "cell_type": "code",
   "execution_count": 29,
   "metadata": {},
   "outputs": [
    {
     "data": {
      "text/plain": [
       "[0, 0, 0, 0, 0, 0, 0, 0, 0, 0, 0, 0, 0, 0, 0, 0, 0, 0, 0, 0, 0, 0, 0, 0]"
      ]
     },
     "execution_count": 29,
     "metadata": {},
     "output_type": "execute_result"
    }
   ],
   "source": [
    "res2"
   ]
  },
  {
   "cell_type": "code",
   "execution_count": 50,
   "metadata": {},
   "outputs": [
    {
     "data": {
      "text/plain": [
       "<matplotlib.legend.Legend at 0x7fd66c8e9080>"
      ]
     },
     "execution_count": 50,
     "metadata": {},
     "output_type": "execute_result"
    },
    {
     "data": {
      "image/png": "[encoded data removed]",
      "text/plain": [
       "<matplotlib.figure.Figure at 0x7fd66a152828>"
      ]
     },
     "metadata": {},
     "output_type": "display_data"
    }
   ],
   "source": [
    "output =  postprocess(xr.open_dataset('/pool0//data/tushark/PLUMBER_data/sites/Blodgett/summa_output/Blodgett_output_simplExp_logBelowCanopy_BallBerry_timestep.nc'))\n",
    "\n",
    "obs = xr.open_dataset(obs_files[12])\n",
    "bench = xr.open_dataset(bench_files[12])\n",
    "met = xr.open_dataset(met_files[12])\n",
    "\n",
    "ts = slice(2000, 2200)\n",
    "obs['Qle'].isel(time=ts).plot(label='observed', linewidth=2)\n",
    "bench['Qle_1lin'].isel(time=ts).plot(label='linear_regression', linewidth=2)\n",
    "bench['Qle_3km27'].isel(time=ts).plot(label='nonlinear_regression', linewidth=2)\n",
    "(-output['latent_heat']).isel(time=ts).plot(label='summa', linewidth=2)\n",
    "plt.legend()"
   ]
  },
  {
   "cell_type": "code",
   "execution_count": 38,
   "metadata": {},
   "outputs": [
    {
     "data": {
      "text/plain": [
       "b\"file_suffix is 'simplExp_exponential_BallBerry_'.\\nfile_master is '/pool0/data/tushark/PLUMBER_data/sites/Blodgett/settings/summa_zFileManager_Blodgett.txt'.\\nstart at 16:40:00\\nName of Model Output control file: /data/tushark/PLUMBER_data/sites/Blodgett/settings/meta/summa_zModelOutput.txt\\ndecisions file =  /data/tushark/PLUMBER_data/sites/Blodgett/settings/summa_zDecisions_Blodgett.txt\\n   1 simulStart: 2002-01-01 00:30\\n   2 simulFinsh: 2007-01-01 00:00\\n   3 soilCatTbl: ROSETTA\\n   4 vegeParTbl: USGS\\n   5 soilStress: NoahType\\n   6 stomResist: BallBerry\\n   7 bbTempFunc: q10Func\\n   8 bbHumdFunc: humidLeafSurface\\n   9 bbElecFunc: linear\\n  10 bbCO2point: origBWB\\n  11 bbNumerics: NoahMPsolution\\n  12 bbAssimFnc: minFunc\\n  13 bbCanIntg8: constantScaling\\n  14 num_method: itertive\\n  15 fDerivMeth: analytic\\n  16 LAI_method: monTable\\n  17 cIntercept: storageFunc\\n  18 f_Richards: mixdform\\n  19 groundwatr: qTopmodl\\n  20 hc_profile: pow_prof\\n  21 bcUpprTdyn: nrg_flux\\n  22 bcLowrTdyn: presTemp\\n  23 bcUpprSoiH: liq_flux\\n  24 bcLowrSoiH: zeroFlux\\n  25 veg_traits: CM_QJRMS1988\\n  26 rootProfil: powerLaw\\n  27 canopyEmis: simplExp\\n  28 snowIncept: lightSnow\\n  29 windPrfile: exponential\\n  30 astability: louisinv\\n  31 canopySrad: CLM_2stream\\n  32 alb_method: varDecay\\n  33 compaction: anderson\\n  34 snowLayers: CLM_2010\\n  35 thCondSnow: jrdn1991\\n  36 thCondSoil: funcSoilWet\\n  37 spatial_gw: localColumn\\n  38 subRouting: timeDlay\\nstartTime: iyyy, im, id, ih, imin = 2002  1  1  0 30\\nfinshTime: iyyy, im, id, ih, imin = 2007  1  1  0  0\\n/data/tushark/PLUMBER_data/sites/Blodgett/settings/summa_zLocalParamInfo.txt\\n/data/tushark/PLUMBER_data/sites/Blodgett/settings/summa_zBasinParamInfo.txt\\nSkipping over SLTYPE = STAS\\nSkipping over SLTYPE = STAS-RUC\\n hruIndex\\n frozenPrecipMultip\\n heightCanopyTop\\n heightCanopyBottom\\n critSoilWilting\\n critSoilTranspire\\n theta_res\\n theta_sat\\n theta_mp\\n fieldCapacity\\n k_soil\\n k_macropore\\n lowerBoundTemp\\nCreated output file:/data/tushark/PLUMBER_data/sites/Blodgett/summa_output/Blodgett_output_simplExp_exponential_BallBerry_timestep.nc\\n\\n\\nFATAL ERROR: read_force/getFirstTimestep/first requested simulation timestep not in any forcing file\\n\\n error, variable dump:\\n modelTimeStep =            1\\n error code =           99\\n    14127952           0    13992032           0          32\\n\""
      ]
     },
     "execution_count": 38,
     "metadata": {},
     "output_type": "execute_result"
    }
   ],
   "source": [
    "out2[0]"
   ]
  },
  {
   "cell_type": "code",
   "execution_count": 30,
   "metadata": {},
   "outputs": [
    {
     "name": "stdout",
     "output_type": "stream",
     "text": [
      "0 canopyEmis simplExp\n",
      "0 windPrfile exponential\n",
      "0 stomResist BallBerry\n",
      "export LD_LIBRARY_PATH=\"$HOME/software/lib:/opt/local/lib:/opt/local/lib64:$LD_LIBRARY_PATH\" && export OMP_NUM_THREADS=8\n",
      "export LD_LIBRARY_PATH=\"$HOME/software/lib:/opt/local/lib:/opt/local/lib64:$LD_LIBRARY_PATH\" && export OMP_NUM_THREADS=8 && /opt/local/bin/summa.exe -p never -s simplExp_exponential_BallBerry_ -m /pool0/data/tushark/PLUMBER_data/sites/ElSaler2/settings/summa_zFileManager_ElSaler2.txt\n",
      "1 canopyEmis simplExp\n",
      "1 windPrfile logBelowCanopy\n",
      "1 stomResist BallBerry\n",
      "export LD_LIBRARY_PATH=\"$HOME/software/lib:/opt/local/lib:/opt/local/lib64:$LD_LIBRARY_PATH\" && export OMP_NUM_THREADS=8\n",
      "export LD_LIBRARY_PATH=\"$HOME/software/lib:/opt/local/lib:/opt/local/lib64:$LD_LIBRARY_PATH\" && export OMP_NUM_THREADS=8 && /opt/local/bin/summa.exe -p never -s simplExp_logBelowCanopy_BallBerry_ -m /pool0/data/tushark/PLUMBER_data/sites/ElSaler2/settings/summa_zFileManager_ElSaler2.txt\n",
      "2 canopyEmis difTrans\n",
      "2 windPrfile exponential\n",
      "2 stomResist BallBerry\n",
      "export LD_LIBRARY_PATH=\"$HOME/software/lib:/opt/local/lib:/opt/local/lib64:$LD_LIBRARY_PATH\" && export OMP_NUM_THREADS=8\n",
      "export LD_LIBRARY_PATH=\"$HOME/software/lib:/opt/local/lib:/opt/local/lib64:$LD_LIBRARY_PATH\" && export OMP_NUM_THREADS=8 && /opt/local/bin/summa.exe -p never -s difTrans_exponential_BallBerry_ -m /pool0/data/tushark/PLUMBER_data/sites/ElSaler2/settings/summa_zFileManager_ElSaler2.txt\n",
      "3 canopyEmis difTrans\n",
      "3 windPrfile logBelowCanopy\n",
      "3 stomResist BallBerry\n",
      "export LD_LIBRARY_PATH=\"$HOME/software/lib:/opt/local/lib:/opt/local/lib64:$LD_LIBRARY_PATH\" && export OMP_NUM_THREADS=8\n",
      "export LD_LIBRARY_PATH=\"$HOME/software/lib:/opt/local/lib:/opt/local/lib64:$LD_LIBRARY_PATH\" && export OMP_NUM_THREADS=8 && /opt/local/bin/summa.exe -p never -s difTrans_logBelowCanopy_BallBerry_ -m /pool0/data/tushark/PLUMBER_data/sites/ElSaler2/settings/summa_zFileManager_ElSaler2.txt\n",
      "4 canopyEmis simplExp\n",
      "4 windPrfile exponential\n",
      "4 stomResist Jarvis\n",
      "export LD_LIBRARY_PATH=\"$HOME/software/lib:/opt/local/lib:/opt/local/lib64:$LD_LIBRARY_PATH\" && export OMP_NUM_THREADS=8\n",
      "export LD_LIBRARY_PATH=\"$HOME/software/lib:/opt/local/lib:/opt/local/lib64:$LD_LIBRARY_PATH\" && export OMP_NUM_THREADS=8 && /opt/local/bin/summa.exe -p never -s simplExp_exponential_Jarvis_ -m /pool0/data/tushark/PLUMBER_data/sites/ElSaler2/settings/summa_zFileManager_ElSaler2.txt\n",
      "5 canopyEmis simplExp\n",
      "5 windPrfile logBelowCanopy\n",
      "5 stomResist Jarvis\n",
      "export LD_LIBRARY_PATH=\"$HOME/software/lib:/opt/local/lib:/opt/local/lib64:$LD_LIBRARY_PATH\" && export OMP_NUM_THREADS=8\n",
      "export LD_LIBRARY_PATH=\"$HOME/software/lib:/opt/local/lib:/opt/local/lib64:$LD_LIBRARY_PATH\" && export OMP_NUM_THREADS=8 && /opt/local/bin/summa.exe -p never -s simplExp_logBelowCanopy_Jarvis_ -m /pool0/data/tushark/PLUMBER_data/sites/ElSaler2/settings/summa_zFileManager_ElSaler2.txt\n",
      "6 canopyEmis difTrans\n",
      "6 windPrfile exponential\n",
      "6 stomResist Jarvis\n",
      "export LD_LIBRARY_PATH=\"$HOME/software/lib:/opt/local/lib:/opt/local/lib64:$LD_LIBRARY_PATH\" && export OMP_NUM_THREADS=8\n",
      "export LD_LIBRARY_PATH=\"$HOME/software/lib:/opt/local/lib:/opt/local/lib64:$LD_LIBRARY_PATH\" && export OMP_NUM_THREADS=8 && /opt/local/bin/summa.exe -p never -s difTrans_exponential_Jarvis_ -m /pool0/data/tushark/PLUMBER_data/sites/ElSaler2/settings/summa_zFileManager_ElSaler2.txt\n",
      "7 canopyEmis difTrans\n",
      "7 windPrfile logBelowCanopy\n",
      "7 stomResist Jarvis\n",
      "export LD_LIBRARY_PATH=\"$HOME/software/lib:/opt/local/lib:/opt/local/lib64:$LD_LIBRARY_PATH\" && export OMP_NUM_THREADS=8\n",
      "export LD_LIBRARY_PATH=\"$HOME/software/lib:/opt/local/lib:/opt/local/lib64:$LD_LIBRARY_PATH\" && export OMP_NUM_THREADS=8 && /opt/local/bin/summa.exe -p never -s difTrans_logBelowCanopy_Jarvis_ -m /pool0/data/tushark/PLUMBER_data/sites/ElSaler2/settings/summa_zFileManager_ElSaler2.txt\n",
      "0 canopyEmis simplExp\n",
      "0 windPrfile exponential\n",
      "0 stomResist BallBerry\n",
      "export LD_LIBRARY_PATH=\"$HOME/software/lib:/opt/local/lib:/opt/local/lib64:$LD_LIBRARY_PATH\" && export OMP_NUM_THREADS=8\n",
      "export LD_LIBRARY_PATH=\"$HOME/software/lib:/opt/local/lib:/opt/local/lib64:$LD_LIBRARY_PATH\" && export OMP_NUM_THREADS=8 && /opt/local/bin/summa.exe -p never -s simplExp_exponential_BallBerry_ -m /pool0/data/tushark/PLUMBER_data/sites/FortPeck/settings/summa_zFileManager_FortPeck.txt\n",
      "1 canopyEmis simplExp\n",
      "1 windPrfile logBelowCanopy\n",
      "1 stomResist BallBerry\n",
      "export LD_LIBRARY_PATH=\"$HOME/software/lib:/opt/local/lib:/opt/local/lib64:$LD_LIBRARY_PATH\" && export OMP_NUM_THREADS=8\n",
      "export LD_LIBRARY_PATH=\"$HOME/software/lib:/opt/local/lib:/opt/local/lib64:$LD_LIBRARY_PATH\" && export OMP_NUM_THREADS=8 && /opt/local/bin/summa.exe -p never -s simplExp_logBelowCanopy_BallBerry_ -m /pool0/data/tushark/PLUMBER_data/sites/FortPeck/settings/summa_zFileManager_FortPeck.txt\n",
      "2 canopyEmis difTrans\n",
      "2 windPrfile exponential\n",
      "2 stomResist BallBerry\n",
      "export LD_LIBRARY_PATH=\"$HOME/software/lib:/opt/local/lib:/opt/local/lib64:$LD_LIBRARY_PATH\" && export OMP_NUM_THREADS=8\n",
      "export LD_LIBRARY_PATH=\"$HOME/software/lib:/opt/local/lib:/opt/local/lib64:$LD_LIBRARY_PATH\" && export OMP_NUM_THREADS=8 && /opt/local/bin/summa.exe -p never -s difTrans_exponential_BallBerry_ -m /pool0/data/tushark/PLUMBER_data/sites/FortPeck/settings/summa_zFileManager_FortPeck.txt\n",
      "3 canopyEmis difTrans\n",
      "3 windPrfile logBelowCanopy\n",
      "3 stomResist BallBerry\n",
      "export LD_LIBRARY_PATH=\"$HOME/software/lib:/opt/local/lib:/opt/local/lib64:$LD_LIBRARY_PATH\" && export OMP_NUM_THREADS=8\n",
      "export LD_LIBRARY_PATH=\"$HOME/software/lib:/opt/local/lib:/opt/local/lib64:$LD_LIBRARY_PATH\" && export OMP_NUM_THREADS=8 && /opt/local/bin/summa.exe -p never -s difTrans_logBelowCanopy_BallBerry_ -m /pool0/data/tushark/PLUMBER_data/sites/FortPeck/settings/summa_zFileManager_FortPeck.txt\n",
      "5 canopyEmis simplExp\n",
      "5 windPrfile logBelowCanopy\n",
      "5 stomResist Jarvis\n",
      "export LD_LIBRARY_PATH=\"$HOME/software/lib:/opt/local/lib:/opt/local/lib64:$LD_LIBRARY_PATH\" && export OMP_NUM_THREADS=8\n",
      "export LD_LIBRARY_PATH=\"$HOME/software/lib:/opt/local/lib:/opt/local/lib64:$LD_LIBRARY_PATH\" && export OMP_NUM_THREADS=8 && /opt/local/bin/summa.exe -p never -s simplExp_logBelowCanopy_Jarvis_ -m /pool0/data/tushark/PLUMBER_data/sites/FortPeck/settings/summa_zFileManager_FortPeck.txt\n",
      "6 canopyEmis difTrans\n",
      "6 windPrfile exponential\n",
      "6 stomResist Jarvis\n",
      "export LD_LIBRARY_PATH=\"$HOME/software/lib:/opt/local/lib:/opt/local/lib64:$LD_LIBRARY_PATH\" && export OMP_NUM_THREADS=8\n",
      "export LD_LIBRARY_PATH=\"$HOME/software/lib:/opt/local/lib:/opt/local/lib64:$LD_LIBRARY_PATH\" && export OMP_NUM_THREADS=8 && /opt/local/bin/summa.exe -p never -s difTrans_exponential_Jarvis_ -m /pool0/data/tushark/PLUMBER_data/sites/FortPeck/settings/summa_zFileManager_FortPeck.txt\n",
      "7 canopyEmis difTrans\n",
      "7 windPrfile logBelowCanopy\n",
      "7 stomResist Jarvis\n",
      "export LD_LIBRARY_PATH=\"$HOME/software/lib:/opt/local/lib:/opt/local/lib64:$LD_LIBRARY_PATH\" && export OMP_NUM_THREADS=8\n",
      "export LD_LIBRARY_PATH=\"$HOME/software/lib:/opt/local/lib:/opt/local/lib64:$LD_LIBRARY_PATH\" && export OMP_NUM_THREADS=8 && /opt/local/bin/summa.exe -p never -s difTrans_logBelowCanopy_Jarvis_ -m /pool0/data/tushark/PLUMBER_data/sites/FortPeck/settings/summa_zFileManager_FortPeck.txt\n",
      "0 canopyEmis simplExp\n",
      "0 windPrfile exponential\n",
      "0 stomResist BallBerry\n",
      "export LD_LIBRARY_PATH=\"$HOME/software/lib:/opt/local/lib:/opt/local/lib64:$LD_LIBRARY_PATH\" && export OMP_NUM_THREADS=8\n",
      "export LD_LIBRARY_PATH=\"$HOME/software/lib:/opt/local/lib:/opt/local/lib64:$LD_LIBRARY_PATH\" && export OMP_NUM_THREADS=8 && /opt/local/bin/summa.exe -p never -s simplExp_exponential_BallBerry_ -m /pool0/data/tushark/PLUMBER_data/sites/Hesse/settings/summa_zFileManager_Hesse.txt\n",
      "1 canopyEmis simplExp\n",
      "1 windPrfile logBelowCanopy\n",
      "1 stomResist BallBerry\n",
      "export LD_LIBRARY_PATH=\"$HOME/software/lib:/opt/local/lib:/opt/local/lib64:$LD_LIBRARY_PATH\" && export OMP_NUM_THREADS=8\n",
      "export LD_LIBRARY_PATH=\"$HOME/software/lib:/opt/local/lib:/opt/local/lib64:$LD_LIBRARY_PATH\" && export OMP_NUM_THREADS=8 && /opt/local/bin/summa.exe -p never -s simplExp_logBelowCanopy_BallBerry_ -m /pool0/data/tushark/PLUMBER_data/sites/Hesse/settings/summa_zFileManager_Hesse.txt\n",
      "2 canopyEmis difTrans\n",
      "2 windPrfile exponential\n",
      "2 stomResist BallBerry\n",
      "export LD_LIBRARY_PATH=\"$HOME/software/lib:/opt/local/lib:/opt/local/lib64:$LD_LIBRARY_PATH\" && export OMP_NUM_THREADS=8\n",
      "export LD_LIBRARY_PATH=\"$HOME/software/lib:/opt/local/lib:/opt/local/lib64:$LD_LIBRARY_PATH\" && export OMP_NUM_THREADS=8 && /opt/local/bin/summa.exe -p never -s difTrans_exponential_BallBerry_ -m /pool0/data/tushark/PLUMBER_data/sites/Hesse/settings/summa_zFileManager_Hesse.txt\n",
      "3 canopyEmis difTrans\n",
      "3 windPrfile logBelowCanopy\n",
      "3 stomResist BallBerry\n",
      "export LD_LIBRARY_PATH=\"$HOME/software/lib:/opt/local/lib:/opt/local/lib64:$LD_LIBRARY_PATH\" && export OMP_NUM_THREADS=8\n",
      "export LD_LIBRARY_PATH=\"$HOME/software/lib:/opt/local/lib:/opt/local/lib64:$LD_LIBRARY_PATH\" && export OMP_NUM_THREADS=8 && /opt/local/bin/summa.exe -p never -s difTrans_logBelowCanopy_BallBerry_ -m /pool0/data/tushark/PLUMBER_data/sites/Hesse/settings/summa_zFileManager_Hesse.txt\n",
      "4 canopyEmis simplExp\n",
      "4 windPrfile exponential\n",
      "4 stomResist Jarvis\n",
      "export LD_LIBRARY_PATH=\"$HOME/software/lib:/opt/local/lib:/opt/local/lib64:$LD_LIBRARY_PATH\" && export OMP_NUM_THREADS=8\n",
      "export LD_LIBRARY_PATH=\"$HOME/software/lib:/opt/local/lib:/opt/local/lib64:$LD_LIBRARY_PATH\" && export OMP_NUM_THREADS=8 && /opt/local/bin/summa.exe -p never -s simplExp_exponential_Jarvis_ -m /pool0/data/tushark/PLUMBER_data/sites/Hesse/settings/summa_zFileManager_Hesse.txt\n",
      "5 canopyEmis simplExp\n",
      "5 windPrfile logBelowCanopy\n",
      "5 stomResist Jarvis\n",
      "export LD_LIBRARY_PATH=\"$HOME/software/lib:/opt/local/lib:/opt/local/lib64:$LD_LIBRARY_PATH\" && export OMP_NUM_THREADS=8\n",
      "export LD_LIBRARY_PATH=\"$HOME/software/lib:/opt/local/lib:/opt/local/lib64:$LD_LIBRARY_PATH\" && export OMP_NUM_THREADS=8 && /opt/local/bin/summa.exe -p never -s simplExp_logBelowCanopy_Jarvis_ -m /pool0/data/tushark/PLUMBER_data/sites/Hesse/settings/summa_zFileManager_Hesse.txt\n",
      "6 canopyEmis difTrans\n",
      "6 windPrfile exponential\n",
      "6 stomResist Jarvis\n",
      "export LD_LIBRARY_PATH=\"$HOME/software/lib:/opt/local/lib:/opt/local/lib64:$LD_LIBRARY_PATH\" && export OMP_NUM_THREADS=8\n",
      "export LD_LIBRARY_PATH=\"$HOME/software/lib:/opt/local/lib:/opt/local/lib64:$LD_LIBRARY_PATH\" && export OMP_NUM_THREADS=8 && /opt/local/bin/summa.exe -p never -s difTrans_exponential_Jarvis_ -m /pool0/data/tushark/PLUMBER_data/sites/Hesse/settings/summa_zFileManager_Hesse.txt\n",
      "7 canopyEmis difTrans\n",
      "7 windPrfile logBelowCanopy\n",
      "7 stomResist Jarvis\n",
      "export LD_LIBRARY_PATH=\"$HOME/software/lib:/opt/local/lib:/opt/local/lib64:$LD_LIBRARY_PATH\" && export OMP_NUM_THREADS=8\n",
      "export LD_LIBRARY_PATH=\"$HOME/software/lib:/opt/local/lib:/opt/local/lib64:$LD_LIBRARY_PATH\" && export OMP_NUM_THREADS=8 && /opt/local/bin/summa.exe -p never -s difTrans_logBelowCanopy_Jarvis_ -m /pool0/data/tushark/PLUMBER_data/sites/Hesse/settings/summa_zFileManager_Hesse.txt\n"
     ]
    }
   ],
   "source": [
    "res3, file3, err3, out3 = run_combinations2(df2, soil_moisture_sites[3:6])\n",
    "for number in res:\n",
    "    if number > 0:\n",
    "        print(out)\n",
    "        print(err)"
   ]
  },
  {
   "cell_type": "code",
   "execution_count": 31,
   "metadata": {},
   "outputs": [
    {
     "data": {
      "text/plain": [
       "[0, 0, 0, 0, 0, 0, 0, 0, 0, 0, 0, 0, 0, 0, 0, 0, 0, 0, 0, 0, 0, 0, 0, 0]"
      ]
     },
     "execution_count": 31,
     "metadata": {},
     "output_type": "execute_result"
    }
   ],
   "source": [
    "res3"
   ]
  },
  {
   "cell_type": "code",
   "execution_count": 33,
   "metadata": {},
   "outputs": [
    {
     "name": "stdout",
     "output_type": "stream",
     "text": [
      "0 canopyEmis simplExp\n",
      "0 windPrfile exponential\n",
      "0 stomResist BallBerry\n",
      "export LD_LIBRARY_PATH=\"$HOME/software/lib:/opt/local/lib:/opt/local/lib64:$LD_LIBRARY_PATH\" && export OMP_NUM_THREADS=8\n",
      "export LD_LIBRARY_PATH=\"$HOME/software/lib:/opt/local/lib:/opt/local/lib64:$LD_LIBRARY_PATH\" && export OMP_NUM_THREADS=8 && /opt/local/bin/summa.exe -p never -s simplExp_exponential_BallBerry_ -m /pool0/data/tushark/PLUMBER_data/sites/Hyytiala/settings/summa_zFileManager_Hyytiala.txt\n",
      "1 canopyEmis simplExp\n",
      "1 windPrfile logBelowCanopy\n",
      "1 stomResist BallBerry\n",
      "export LD_LIBRARY_PATH=\"$HOME/software/lib:/opt/local/lib:/opt/local/lib64:$LD_LIBRARY_PATH\" && export OMP_NUM_THREADS=8\n",
      "export LD_LIBRARY_PATH=\"$HOME/software/lib:/opt/local/lib:/opt/local/lib64:$LD_LIBRARY_PATH\" && export OMP_NUM_THREADS=8 && /opt/local/bin/summa.exe -p never -s simplExp_logBelowCanopy_BallBerry_ -m /pool0/data/tushark/PLUMBER_data/sites/Hyytiala/settings/summa_zFileManager_Hyytiala.txt\n",
      "2 canopyEmis difTrans\n",
      "2 windPrfile exponential\n",
      "2 stomResist BallBerry\n",
      "export LD_LIBRARY_PATH=\"$HOME/software/lib:/opt/local/lib:/opt/local/lib64:$LD_LIBRARY_PATH\" && export OMP_NUM_THREADS=8\n",
      "export LD_LIBRARY_PATH=\"$HOME/software/lib:/opt/local/lib:/opt/local/lib64:$LD_LIBRARY_PATH\" && export OMP_NUM_THREADS=8 && /opt/local/bin/summa.exe -p never -s difTrans_exponential_BallBerry_ -m /pool0/data/tushark/PLUMBER_data/sites/Hyytiala/settings/summa_zFileManager_Hyytiala.txt\n",
      "3 canopyEmis difTrans\n",
      "3 windPrfile logBelowCanopy\n",
      "3 stomResist BallBerry\n",
      "export LD_LIBRARY_PATH=\"$HOME/software/lib:/opt/local/lib:/opt/local/lib64:$LD_LIBRARY_PATH\" && export OMP_NUM_THREADS=8\n",
      "export LD_LIBRARY_PATH=\"$HOME/software/lib:/opt/local/lib:/opt/local/lib64:$LD_LIBRARY_PATH\" && export OMP_NUM_THREADS=8 && /opt/local/bin/summa.exe -p never -s difTrans_logBelowCanopy_BallBerry_ -m /pool0/data/tushark/PLUMBER_data/sites/Hyytiala/settings/summa_zFileManager_Hyytiala.txt\n",
      "4 canopyEmis simplExp\n",
      "4 windPrfile exponential\n",
      "4 stomResist Jarvis\n",
      "export LD_LIBRARY_PATH=\"$HOME/software/lib:/opt/local/lib:/opt/local/lib64:$LD_LIBRARY_PATH\" && export OMP_NUM_THREADS=8\n",
      "export LD_LIBRARY_PATH=\"$HOME/software/lib:/opt/local/lib:/opt/local/lib64:$LD_LIBRARY_PATH\" && export OMP_NUM_THREADS=8 && /opt/local/bin/summa.exe -p never -s simplExp_exponential_Jarvis_ -m /pool0/data/tushark/PLUMBER_data/sites/Hyytiala/settings/summa_zFileManager_Hyytiala.txt\n",
      "5 canopyEmis simplExp\n",
      "5 windPrfile logBelowCanopy\n",
      "5 stomResist Jarvis\n",
      "export LD_LIBRARY_PATH=\"$HOME/software/lib:/opt/local/lib:/opt/local/lib64:$LD_LIBRARY_PATH\" && export OMP_NUM_THREADS=8\n",
      "export LD_LIBRARY_PATH=\"$HOME/software/lib:/opt/local/lib:/opt/local/lib64:$LD_LIBRARY_PATH\" && export OMP_NUM_THREADS=8 && /opt/local/bin/summa.exe -p never -s simplExp_logBelowCanopy_Jarvis_ -m /pool0/data/tushark/PLUMBER_data/sites/Hyytiala/settings/summa_zFileManager_Hyytiala.txt\n",
      "6 canopyEmis difTrans\n",
      "6 windPrfile exponential\n",
      "6 stomResist Jarvis\n",
      "export LD_LIBRARY_PATH=\"$HOME/software/lib:/opt/local/lib:/opt/local/lib64:$LD_LIBRARY_PATH\" && export OMP_NUM_THREADS=8\n",
      "export LD_LIBRARY_PATH=\"$HOME/software/lib:/opt/local/lib:/opt/local/lib64:$LD_LIBRARY_PATH\" && export OMP_NUM_THREADS=8 && /opt/local/bin/summa.exe -p never -s difTrans_exponential_Jarvis_ -m /pool0/data/tushark/PLUMBER_data/sites/Hyytiala/settings/summa_zFileManager_Hyytiala.txt\n",
      "7 canopyEmis difTrans\n",
      "7 windPrfile logBelowCanopy\n",
      "7 stomResist Jarvis\n",
      "export LD_LIBRARY_PATH=\"$HOME/software/lib:/opt/local/lib:/opt/local/lib64:$LD_LIBRARY_PATH\" && export OMP_NUM_THREADS=8\n",
      "export LD_LIBRARY_PATH=\"$HOME/software/lib:/opt/local/lib:/opt/local/lib64:$LD_LIBRARY_PATH\" && export OMP_NUM_THREADS=8 && /opt/local/bin/summa.exe -p never -s difTrans_logBelowCanopy_Jarvis_ -m /pool0/data/tushark/PLUMBER_data/sites/Hyytiala/settings/summa_zFileManager_Hyytiala.txt\n",
      "0 canopyEmis simplExp\n",
      "0 windPrfile exponential\n",
      "0 stomResist BallBerry\n",
      "export LD_LIBRARY_PATH=\"$HOME/software/lib:/opt/local/lib:/opt/local/lib64:$LD_LIBRARY_PATH\" && export OMP_NUM_THREADS=8\n",
      "export LD_LIBRARY_PATH=\"$HOME/software/lib:/opt/local/lib:/opt/local/lib64:$LD_LIBRARY_PATH\" && export OMP_NUM_THREADS=8 && /opt/local/bin/summa.exe -p never -s simplExp_exponential_BallBerry_ -m /pool0/data/tushark/PLUMBER_data/sites/Kruger/settings/summa_zFileManager_Kruger.txt\n",
      "1 canopyEmis simplExp\n",
      "1 windPrfile logBelowCanopy\n",
      "1 stomResist BallBerry\n",
      "export LD_LIBRARY_PATH=\"$HOME/software/lib:/opt/local/lib:/opt/local/lib64:$LD_LIBRARY_PATH\" && export OMP_NUM_THREADS=8\n",
      "export LD_LIBRARY_PATH=\"$HOME/software/lib:/opt/local/lib:/opt/local/lib64:$LD_LIBRARY_PATH\" && export OMP_NUM_THREADS=8 && /opt/local/bin/summa.exe -p never -s simplExp_logBelowCanopy_BallBerry_ -m /pool0/data/tushark/PLUMBER_data/sites/Kruger/settings/summa_zFileManager_Kruger.txt\n",
      "2 canopyEmis difTrans\n",
      "2 windPrfile exponential\n",
      "2 stomResist BallBerry\n",
      "export LD_LIBRARY_PATH=\"$HOME/software/lib:/opt/local/lib:/opt/local/lib64:$LD_LIBRARY_PATH\" && export OMP_NUM_THREADS=8\n",
      "export LD_LIBRARY_PATH=\"$HOME/software/lib:/opt/local/lib:/opt/local/lib64:$LD_LIBRARY_PATH\" && export OMP_NUM_THREADS=8 && /opt/local/bin/summa.exe -p never -s difTrans_exponential_BallBerry_ -m /pool0/data/tushark/PLUMBER_data/sites/Kruger/settings/summa_zFileManager_Kruger.txt\n",
      "3 canopyEmis difTrans\n",
      "3 windPrfile logBelowCanopy\n",
      "3 stomResist BallBerry\n",
      "export LD_LIBRARY_PATH=\"$HOME/software/lib:/opt/local/lib:/opt/local/lib64:$LD_LIBRARY_PATH\" && export OMP_NUM_THREADS=8\n",
      "export LD_LIBRARY_PATH=\"$HOME/software/lib:/opt/local/lib:/opt/local/lib64:$LD_LIBRARY_PATH\" && export OMP_NUM_THREADS=8 && /opt/local/bin/summa.exe -p never -s difTrans_logBelowCanopy_BallBerry_ -m /pool0/data/tushark/PLUMBER_data/sites/Kruger/settings/summa_zFileManager_Kruger.txt\n",
      "4 canopyEmis simplExp\n",
      "4 windPrfile exponential\n",
      "4 stomResist Jarvis\n",
      "export LD_LIBRARY_PATH=\"$HOME/software/lib:/opt/local/lib:/opt/local/lib64:$LD_LIBRARY_PATH\" && export OMP_NUM_THREADS=8\n",
      "export LD_LIBRARY_PATH=\"$HOME/software/lib:/opt/local/lib:/opt/local/lib64:$LD_LIBRARY_PATH\" && export OMP_NUM_THREADS=8 && /opt/local/bin/summa.exe -p never -s simplExp_exponential_Jarvis_ -m /pool0/data/tushark/PLUMBER_data/sites/Kruger/settings/summa_zFileManager_Kruger.txt\n",
      "5 canopyEmis simplExp\n",
      "5 windPrfile logBelowCanopy\n",
      "5 stomResist Jarvis\n",
      "export LD_LIBRARY_PATH=\"$HOME/software/lib:/opt/local/lib:/opt/local/lib64:$LD_LIBRARY_PATH\" && export OMP_NUM_THREADS=8\n",
      "export LD_LIBRARY_PATH=\"$HOME/software/lib:/opt/local/lib:/opt/local/lib64:$LD_LIBRARY_PATH\" && export OMP_NUM_THREADS=8 && /opt/local/bin/summa.exe -p never -s simplExp_logBelowCanopy_Jarvis_ -m /pool0/data/tushark/PLUMBER_data/sites/Kruger/settings/summa_zFileManager_Kruger.txt\n",
      "6 canopyEmis difTrans\n",
      "6 windPrfile exponential\n",
      "6 stomResist Jarvis\n",
      "export LD_LIBRARY_PATH=\"$HOME/software/lib:/opt/local/lib:/opt/local/lib64:$LD_LIBRARY_PATH\" && export OMP_NUM_THREADS=8\n",
      "export LD_LIBRARY_PATH=\"$HOME/software/lib:/opt/local/lib:/opt/local/lib64:$LD_LIBRARY_PATH\" && export OMP_NUM_THREADS=8 && /opt/local/bin/summa.exe -p never -s difTrans_exponential_Jarvis_ -m /pool0/data/tushark/PLUMBER_data/sites/Kruger/settings/summa_zFileManager_Kruger.txt\n",
      "7 canopyEmis difTrans\n",
      "7 windPrfile logBelowCanopy\n",
      "7 stomResist Jarvis\n",
      "export LD_LIBRARY_PATH=\"$HOME/software/lib:/opt/local/lib:/opt/local/lib64:$LD_LIBRARY_PATH\" && export OMP_NUM_THREADS=8\n",
      "export LD_LIBRARY_PATH=\"$HOME/software/lib:/opt/local/lib:/opt/local/lib64:$LD_LIBRARY_PATH\" && export OMP_NUM_THREADS=8 && /opt/local/bin/summa.exe -p never -s difTrans_logBelowCanopy_Jarvis_ -m /pool0/data/tushark/PLUMBER_data/sites/Kruger/settings/summa_zFileManager_Kruger.txt\n",
      "0 canopyEmis simplExp\n",
      "0 windPrfile exponential\n",
      "0 stomResist BallBerry\n",
      "export LD_LIBRARY_PATH=\"$HOME/software/lib:/opt/local/lib:/opt/local/lib64:$LD_LIBRARY_PATH\" && export OMP_NUM_THREADS=8\n",
      "export LD_LIBRARY_PATH=\"$HOME/software/lib:/opt/local/lib:/opt/local/lib64:$LD_LIBRARY_PATH\" && export OMP_NUM_THREADS=8 && /opt/local/bin/summa.exe -p never -s simplExp_exponential_BallBerry_ -m /pool0/data/tushark/PLUMBER_data/sites/Loobos/settings/summa_zFileManager_Loobos.txt\n",
      "1 canopyEmis simplExp\n",
      "1 windPrfile logBelowCanopy\n",
      "1 stomResist BallBerry\n",
      "export LD_LIBRARY_PATH=\"$HOME/software/lib:/opt/local/lib:/opt/local/lib64:$LD_LIBRARY_PATH\" && export OMP_NUM_THREADS=8\n",
      "export LD_LIBRARY_PATH=\"$HOME/software/lib:/opt/local/lib:/opt/local/lib64:$LD_LIBRARY_PATH\" && export OMP_NUM_THREADS=8 && /opt/local/bin/summa.exe -p never -s simplExp_logBelowCanopy_BallBerry_ -m /pool0/data/tushark/PLUMBER_data/sites/Loobos/settings/summa_zFileManager_Loobos.txt\n",
      "2 canopyEmis difTrans\n",
      "2 windPrfile exponential\n",
      "2 stomResist BallBerry\n",
      "export LD_LIBRARY_PATH=\"$HOME/software/lib:/opt/local/lib:/opt/local/lib64:$LD_LIBRARY_PATH\" && export OMP_NUM_THREADS=8\n",
      "export LD_LIBRARY_PATH=\"$HOME/software/lib:/opt/local/lib:/opt/local/lib64:$LD_LIBRARY_PATH\" && export OMP_NUM_THREADS=8 && /opt/local/bin/summa.exe -p never -s difTrans_exponential_BallBerry_ -m /pool0/data/tushark/PLUMBER_data/sites/Loobos/settings/summa_zFileManager_Loobos.txt\n",
      "3 canopyEmis difTrans\n",
      "3 windPrfile logBelowCanopy\n",
      "3 stomResist BallBerry\n",
      "export LD_LIBRARY_PATH=\"$HOME/software/lib:/opt/local/lib:/opt/local/lib64:$LD_LIBRARY_PATH\" && export OMP_NUM_THREADS=8\n",
      "export LD_LIBRARY_PATH=\"$HOME/software/lib:/opt/local/lib:/opt/local/lib64:$LD_LIBRARY_PATH\" && export OMP_NUM_THREADS=8 && /opt/local/bin/summa.exe -p never -s difTrans_logBelowCanopy_BallBerry_ -m /pool0/data/tushark/PLUMBER_data/sites/Loobos/settings/summa_zFileManager_Loobos.txt\n",
      "4 canopyEmis simplExp\n",
      "4 windPrfile exponential\n",
      "4 stomResist Jarvis\n",
      "export LD_LIBRARY_PATH=\"$HOME/software/lib:/opt/local/lib:/opt/local/lib64:$LD_LIBRARY_PATH\" && export OMP_NUM_THREADS=8\n",
      "export LD_LIBRARY_PATH=\"$HOME/software/lib:/opt/local/lib:/opt/local/lib64:$LD_LIBRARY_PATH\" && export OMP_NUM_THREADS=8 && /opt/local/bin/summa.exe -p never -s simplExp_exponential_Jarvis_ -m /pool0/data/tushark/PLUMBER_data/sites/Loobos/settings/summa_zFileManager_Loobos.txt\n",
      "5 canopyEmis simplExp\n",
      "5 windPrfile logBelowCanopy\n",
      "5 stomResist Jarvis\n",
      "export LD_LIBRARY_PATH=\"$HOME/software/lib:/opt/local/lib:/opt/local/lib64:$LD_LIBRARY_PATH\" && export OMP_NUM_THREADS=8\n",
      "export LD_LIBRARY_PATH=\"$HOME/software/lib:/opt/local/lib:/opt/local/lib64:$LD_LIBRARY_PATH\" && export OMP_NUM_THREADS=8 && /opt/local/bin/summa.exe -p never -s simplExp_logBelowCanopy_Jarvis_ -m /pool0/data/tushark/PLUMBER_data/sites/Loobos/settings/summa_zFileManager_Loobos.txt\n",
      "6 canopyEmis difTrans\n",
      "6 windPrfile exponential\n",
      "6 stomResist Jarvis\n",
      "export LD_LIBRARY_PATH=\"$HOME/software/lib:/opt/local/lib:/opt/local/lib64:$LD_LIBRARY_PATH\" && export OMP_NUM_THREADS=8\n",
      "export LD_LIBRARY_PATH=\"$HOME/software/lib:/opt/local/lib:/opt/local/lib64:$LD_LIBRARY_PATH\" && export OMP_NUM_THREADS=8 && /opt/local/bin/summa.exe -p never -s difTrans_exponential_Jarvis_ -m /pool0/data/tushark/PLUMBER_data/sites/Loobos/settings/summa_zFileManager_Loobos.txt\n",
      "7 canopyEmis difTrans\n",
      "7 windPrfile logBelowCanopy\n",
      "7 stomResist Jarvis\n",
      "export LD_LIBRARY_PATH=\"$HOME/software/lib:/opt/local/lib:/opt/local/lib64:$LD_LIBRARY_PATH\" && export OMP_NUM_THREADS=8\n",
      "export LD_LIBRARY_PATH=\"$HOME/software/lib:/opt/local/lib:/opt/local/lib64:$LD_LIBRARY_PATH\" && export OMP_NUM_THREADS=8 && /opt/local/bin/summa.exe -p never -s difTrans_logBelowCanopy_Jarvis_ -m /pool0/data/tushark/PLUMBER_data/sites/Loobos/settings/summa_zFileManager_Loobos.txt\n",
      "3 canopyEmis difTrans\n",
      "3 windPrfile logBelowCanopy\n",
      "3 stomResist BallBerry\n",
      "export LD_LIBRARY_PATH=\"$HOME/software/lib:/opt/local/lib:/opt/local/lib64:$LD_LIBRARY_PATH\" && export OMP_NUM_THREADS=8\n",
      "export LD_LIBRARY_PATH=\"$HOME/software/lib:/opt/local/lib:/opt/local/lib64:$LD_LIBRARY_PATH\" && export OMP_NUM_THREADS=8 && /opt/local/bin/summa.exe -p never -s difTrans_logBelowCanopy_BallBerry_ -m /pool0/data/tushark/PLUMBER_data/sites/Mopane/settings/summa_zFileManager_Mopane.txt\n",
      "4 canopyEmis simplExp\n",
      "4 windPrfile exponential\n",
      "4 stomResist Jarvis\n",
      "export LD_LIBRARY_PATH=\"$HOME/software/lib:/opt/local/lib:/opt/local/lib64:$LD_LIBRARY_PATH\" && export OMP_NUM_THREADS=8\n",
      "export LD_LIBRARY_PATH=\"$HOME/software/lib:/opt/local/lib:/opt/local/lib64:$LD_LIBRARY_PATH\" && export OMP_NUM_THREADS=8 && /opt/local/bin/summa.exe -p never -s simplExp_exponential_Jarvis_ -m /pool0/data/tushark/PLUMBER_data/sites/Mopane/settings/summa_zFileManager_Mopane.txt\n",
      "5 canopyEmis simplExp\n",
      "5 windPrfile logBelowCanopy\n",
      "5 stomResist Jarvis\n",
      "export LD_LIBRARY_PATH=\"$HOME/software/lib:/opt/local/lib:/opt/local/lib64:$LD_LIBRARY_PATH\" && export OMP_NUM_THREADS=8\n",
      "export LD_LIBRARY_PATH=\"$HOME/software/lib:/opt/local/lib:/opt/local/lib64:$LD_LIBRARY_PATH\" && export OMP_NUM_THREADS=8 && /opt/local/bin/summa.exe -p never -s simplExp_logBelowCanopy_Jarvis_ -m /pool0/data/tushark/PLUMBER_data/sites/Mopane/settings/summa_zFileManager_Mopane.txt\n",
      "6 canopyEmis difTrans\n",
      "6 windPrfile exponential\n",
      "6 stomResist Jarvis\n",
      "export LD_LIBRARY_PATH=\"$HOME/software/lib:/opt/local/lib:/opt/local/lib64:$LD_LIBRARY_PATH\" && export OMP_NUM_THREADS=8\n",
      "export LD_LIBRARY_PATH=\"$HOME/software/lib:/opt/local/lib:/opt/local/lib64:$LD_LIBRARY_PATH\" && export OMP_NUM_THREADS=8 && /opt/local/bin/summa.exe -p never -s difTrans_exponential_Jarvis_ -m /pool0/data/tushark/PLUMBER_data/sites/Mopane/settings/summa_zFileManager_Mopane.txt\n",
      "7 canopyEmis difTrans\n",
      "7 windPrfile logBelowCanopy\n",
      "7 stomResist Jarvis\n",
      "export LD_LIBRARY_PATH=\"$HOME/software/lib:/opt/local/lib:/opt/local/lib64:$LD_LIBRARY_PATH\" && export OMP_NUM_THREADS=8\n",
      "export LD_LIBRARY_PATH=\"$HOME/software/lib:/opt/local/lib:/opt/local/lib64:$LD_LIBRARY_PATH\" && export OMP_NUM_THREADS=8 && /opt/local/bin/summa.exe -p never -s difTrans_logBelowCanopy_Jarvis_ -m /pool0/data/tushark/PLUMBER_data/sites/Mopane/settings/summa_zFileManager_Mopane.txt\n",
      "0 canopyEmis simplExp\n",
      "0 windPrfile exponential\n",
      "0 stomResist BallBerry\n",
      "export LD_LIBRARY_PATH=\"$HOME/software/lib:/opt/local/lib:/opt/local/lib64:$LD_LIBRARY_PATH\" && export OMP_NUM_THREADS=8\n",
      "export LD_LIBRARY_PATH=\"$HOME/software/lib:/opt/local/lib:/opt/local/lib64:$LD_LIBRARY_PATH\" && export OMP_NUM_THREADS=8 && /opt/local/bin/summa.exe -p never -s simplExp_exponential_BallBerry_ -m /pool0/data/tushark/PLUMBER_data/sites/Sylvania/settings/summa_zFileManager_Sylvania.txt\n",
      "1 canopyEmis simplExp\n",
      "1 windPrfile logBelowCanopy\n",
      "1 stomResist BallBerry\n",
      "export LD_LIBRARY_PATH=\"$HOME/software/lib:/opt/local/lib:/opt/local/lib64:$LD_LIBRARY_PATH\" && export OMP_NUM_THREADS=8\n",
      "export LD_LIBRARY_PATH=\"$HOME/software/lib:/opt/local/lib:/opt/local/lib64:$LD_LIBRARY_PATH\" && export OMP_NUM_THREADS=8 && /opt/local/bin/summa.exe -p never -s simplExp_logBelowCanopy_BallBerry_ -m /pool0/data/tushark/PLUMBER_data/sites/Sylvania/settings/summa_zFileManager_Sylvania.txt\n",
      "2 canopyEmis difTrans\n",
      "2 windPrfile exponential\n",
      "2 stomResist BallBerry\n",
      "export LD_LIBRARY_PATH=\"$HOME/software/lib:/opt/local/lib:/opt/local/lib64:$LD_LIBRARY_PATH\" && export OMP_NUM_THREADS=8\n",
      "export LD_LIBRARY_PATH=\"$HOME/software/lib:/opt/local/lib:/opt/local/lib64:$LD_LIBRARY_PATH\" && export OMP_NUM_THREADS=8 && /opt/local/bin/summa.exe -p never -s difTrans_exponential_BallBerry_ -m /pool0/data/tushark/PLUMBER_data/sites/Sylvania/settings/summa_zFileManager_Sylvania.txt\n",
      "3 canopyEmis difTrans\n",
      "3 windPrfile logBelowCanopy\n",
      "3 stomResist BallBerry\n",
      "export LD_LIBRARY_PATH=\"$HOME/software/lib:/opt/local/lib:/opt/local/lib64:$LD_LIBRARY_PATH\" && export OMP_NUM_THREADS=8\n",
      "export LD_LIBRARY_PATH=\"$HOME/software/lib:/opt/local/lib:/opt/local/lib64:$LD_LIBRARY_PATH\" && export OMP_NUM_THREADS=8 && /opt/local/bin/summa.exe -p never -s difTrans_logBelowCanopy_BallBerry_ -m /pool0/data/tushark/PLUMBER_data/sites/Sylvania/settings/summa_zFileManager_Sylvania.txt\n",
      "4 canopyEmis simplExp\n",
      "4 windPrfile exponential\n",
      "4 stomResist Jarvis\n",
      "export LD_LIBRARY_PATH=\"$HOME/software/lib:/opt/local/lib:/opt/local/lib64:$LD_LIBRARY_PATH\" && export OMP_NUM_THREADS=8\n",
      "export LD_LIBRARY_PATH=\"$HOME/software/lib:/opt/local/lib:/opt/local/lib64:$LD_LIBRARY_PATH\" && export OMP_NUM_THREADS=8 && /opt/local/bin/summa.exe -p never -s simplExp_exponential_Jarvis_ -m /pool0/data/tushark/PLUMBER_data/sites/Sylvania/settings/summa_zFileManager_Sylvania.txt\n",
      "5 canopyEmis simplExp\n",
      "5 windPrfile logBelowCanopy\n",
      "5 stomResist Jarvis\n",
      "export LD_LIBRARY_PATH=\"$HOME/software/lib:/opt/local/lib:/opt/local/lib64:$LD_LIBRARY_PATH\" && export OMP_NUM_THREADS=8\n",
      "export LD_LIBRARY_PATH=\"$HOME/software/lib:/opt/local/lib:/opt/local/lib64:$LD_LIBRARY_PATH\" && export OMP_NUM_THREADS=8 && /opt/local/bin/summa.exe -p never -s simplExp_logBelowCanopy_Jarvis_ -m /pool0/data/tushark/PLUMBER_data/sites/Sylvania/settings/summa_zFileManager_Sylvania.txt\n",
      "6 canopyEmis difTrans\n",
      "6 windPrfile exponential\n",
      "6 stomResist Jarvis\n",
      "export LD_LIBRARY_PATH=\"$HOME/software/lib:/opt/local/lib:/opt/local/lib64:$LD_LIBRARY_PATH\" && export OMP_NUM_THREADS=8\n",
      "export LD_LIBRARY_PATH=\"$HOME/software/lib:/opt/local/lib:/opt/local/lib64:$LD_LIBRARY_PATH\" && export OMP_NUM_THREADS=8 && /opt/local/bin/summa.exe -p never -s difTrans_exponential_Jarvis_ -m /pool0/data/tushark/PLUMBER_data/sites/Sylvania/settings/summa_zFileManager_Sylvania.txt\n",
      "7 canopyEmis difTrans\n",
      "7 windPrfile logBelowCanopy\n",
      "7 stomResist Jarvis\n",
      "export LD_LIBRARY_PATH=\"$HOME/software/lib:/opt/local/lib:/opt/local/lib64:$LD_LIBRARY_PATH\" && export OMP_NUM_THREADS=8\n",
      "export LD_LIBRARY_PATH=\"$HOME/software/lib:/opt/local/lib:/opt/local/lib64:$LD_LIBRARY_PATH\" && export OMP_NUM_THREADS=8 && /opt/local/bin/summa.exe -p never -s difTrans_logBelowCanopy_Jarvis_ -m /pool0/data/tushark/PLUMBER_data/sites/Sylvania/settings/summa_zFileManager_Sylvania.txt\n"
     ]
    }
   ],
   "source": [
    "res4, file4, err4, out4 = run_combinations2(df2, soil_moisture_sites[6:])\n",
    "for number in res:\n",
    "    if number > 0:\n",
    "        print(out)\n",
    "        print(err)"
   ]
  },
  {
   "cell_type": "code",
   "execution_count": 34,
   "metadata": {},
   "outputs": [
    {
     "data": {
      "text/plain": [
       "[0,\n",
       " 0,\n",
       " 0,\n",
       " 0,\n",
       " 0,\n",
       " 0,\n",
       " 0,\n",
       " 0,\n",
       " 1,\n",
       " 1,\n",
       " 1,\n",
       " 1,\n",
       " 1,\n",
       " 1,\n",
       " 1,\n",
       " 1,\n",
       " 0,\n",
       " 0,\n",
       " 0,\n",
       " 0,\n",
       " 0,\n",
       " 0,\n",
       " 0,\n",
       " 0,\n",
       " 0,\n",
       " 0,\n",
       " 0,\n",
       " 0,\n",
       " 0,\n",
       " 0,\n",
       " 0,\n",
       " 0,\n",
       " 0,\n",
       " 0,\n",
       " 0,\n",
       " 0,\n",
       " 0,\n",
       " 0,\n",
       " 0,\n",
       " 0]"
      ]
     },
     "execution_count": 34,
     "metadata": {},
     "output_type": "execute_result"
    }
   ],
   "source": [
    "res4"
   ]
  },
  {
   "cell_type": "code",
   "execution_count": 58,
   "metadata": {},
   "outputs": [
    {
     "data": {
      "text/plain": [
       "[0, 0, 0, 0, 0, 0, 0, 0]"
      ]
     },
     "execution_count": 58,
     "metadata": {},
     "output_type": "execute_result"
    }
   ],
   "source": [
    "res2"
   ]
  },
  {
   "cell_type": "code",
   "execution_count": 59,
   "metadata": {},
   "outputs": [
    {
     "data": {
      "text/plain": [
       "[0, 0, 0, 0, 0, 0, 0, 0, 0, 0, 0, 0, 0, 0, 0, 0]"
      ]
     },
     "execution_count": 59,
     "metadata": {},
     "output_type": "execute_result"
    }
   ],
   "source": [
    "res3"
   ]
  },
  {
   "cell_type": "code",
   "execution_count": 63,
   "metadata": {},
   "outputs": [
    {
     "data": {
      "text/plain": [
       "b'Note: The following floating-point exceptions are signalling: IEEE_INVALID_FLAG IEEE_UNDERFLOW_FLAG IEEE_DENORMAL\\n'"
      ]
     },
     "execution_count": 63,
     "metadata": {},
     "output_type": "execute_result"
    }
   ],
   "source": [
    "err4[15]"
   ]
  },
  {
   "cell_type": "code",
   "execution_count": 64,
   "metadata": {},
   "outputs": [
    {
     "data": {
      "text/plain": [
       "'Hyytiala'"
      ]
     },
     "execution_count": 64,
     "metadata": {},
     "output_type": "execute_result"
    }
   ],
   "source": [
    "soil_moisture_sites[6]"
   ]
  },
  {
   "cell_type": "code",
   "execution_count": 68,
   "metadata": {},
   "outputs": [
    {
     "data": {
      "text/plain": [
       "b\"file_suffix is 'simplExp_exponential_BallBerry_'.\\nfile_master is '/pool0/data/tushark/PLUMBER_data/sites/Kruger/settings/summa_zFileManager_Kruger.txt'.\\nstart at 21:31:43\\nName of Model Output control file: /data/tushark/PLUMBER_data/sites/Kruger/settings/meta/summa_zModelOutput.txt\\ndecisions file =  /data/tushark/PLUMBER_data/sites/Kruger/settings/summa_zDecisions_Kruger.txt\\n   1 simulStart: 2002-01-01 00:30\\n   2 simulFinsh: 2004-01-01 00:00\\n   3 soilCatTbl: ROSETTA\\n   4 vegeParTbl: USGS\\n   5 soilStress: NoahType\\n   6 stomResist: BallBerry\\n   7 bbTempFunc: q10Func\\n   8 bbHumdFunc: humidLeafSurface\\n   9 bbElecFunc: linear\\n  10 bbCO2point: origBWB\\n  11 bbNumerics: NoahMPsolution\\n  12 bbAssimFnc: minFunc\\n  13 bbCanIntg8: constantScaling\\n  14 num_method: itertive\\n  15 fDerivMeth: analytic\\n  16 LAI_method: monTable\\n  17 cIntercept: storageFunc\\n  18 f_Richards: mixdform\\n  19 groundwatr: qTopmodl\\n  20 hc_profile: pow_prof\\n  21 bcUpprTdyn: nrg_flux\\n  22 bcLowrTdyn: presTemp\\n  23 bcUpprSoiH: liq_flux\\n  24 bcLowrSoiH: zeroFlux\\n  25 veg_traits: CM_QJRMS1988\\n  26 rootProfil: powerLaw\\n  27 canopyEmis: simplExp\\n  28 snowIncept: lightSnow\\n  29 windPrfile: exponential\\n  30 astability: louisinv\\n  31 canopySrad: CLM_2stream\\n  32 alb_method: varDecay\\n  33 compaction: anderson\\n  34 snowLayers: CLM_2010\\n  35 thCondSnow: jrdn1991\\n  36 thCondSoil: funcSoilWet\\n  37 spatial_gw: localColumn\\n  38 subRouting: timeDlay\\nstartTime: iyyy, im, id, ih, imin = 2002  1  1  0 30\\nfinshTime: iyyy, im, id, ih, imin = 2004  1  1  0  0\\n/data/tushark/PLUMBER_data/sites/Kruger/settings/summa_zLocalParamInfo.txt\\n/data/tushark/PLUMBER_data/sites/Kruger/settings/summa_zBasinParamInfo.txt\\nSkipping over SLTYPE = STAS\\nSkipping over SLTYPE = STAS-RUC\\n hruIndex\\n frozenPrecipMultip\\n heightCanopyTop\\n heightCanopyBottom\\n critSoilWilting\\n critSoilTranspire\\n theta_res\\n theta_sat\\n theta_mp\\n fieldCapacity\\n k_soil\\n k_macropore\\n lowerBoundTemp\\nCreated output file:/data/tushark/PLUMBER_data/sites/Kruger/summa_output/Kruger_output_simplExp_exponential_BallBerry_timestep.nc\\n\\n\\nFATAL ERROR: run_oneGRU/run_oneHRU/coupled_em/opSplittin/varSubstep/systemSolv/summaSolve/lineSearchRefinement/eval8summa_wrapper/eval8summa/updateVars/liquid water greater than porosity\\n\\n error, variable dump:\\n modelTimeStep =        10851\\n error code =           20\\n        2002           8          15           1          30\\n\""
      ]
     },
     "execution_count": 68,
     "metadata": {},
     "output_type": "execute_result"
    }
   ],
   "source": [
    "out4[16]"
   ]
  },
  {
   "cell_type": "code",
   "execution_count": 73,
   "metadata": {},
   "outputs": [],
   "source": [
    "res = res1 + res2 + res3 + res4\n",
    "err = err1 + err2 + err3 + err4\n",
    "file = file1 + file2 + file3 + file4\n",
    "#out = out1 + out2 + out3 + out4"
   ]
  },
  {
   "cell_type": "code",
   "execution_count": 75,
   "metadata": {},
   "outputs": [
    {
     "data": {
      "text/plain": [
       "['/data/tushark/PLUMBER_data/sites/Blodgett/summa_output/Blodgett_output_simplExp_exponential_BallBerry__timestep.nc',\n",
       " '/data/tushark/PLUMBER_data/sites/Blodgett/summa_output/Blodgett_output_simplExp_logBelowCanopy_BallBerry__timestep.nc',\n",
       " '/data/tushark/PLUMBER_data/sites/Blodgett/summa_output/Blodgett_output_difTrans_exponential_BallBerry__timestep.nc',\n",
       " '/data/tushark/PLUMBER_data/sites/Blodgett/summa_output/Blodgett_output_difTrans_logBelowCanopy_BallBerry__timestep.nc',\n",
       " '/data/tushark/PLUMBER_data/sites/Blodgett/summa_output/Blodgett_output_simplExp_exponential_Jarvis__timestep.nc',\n",
       " '/data/tushark/PLUMBER_data/sites/Blodgett/summa_output/Blodgett_output_simplExp_logBelowCanopy_Jarvis__timestep.nc',\n",
       " '/data/tushark/PLUMBER_data/sites/Blodgett/summa_output/Blodgett_output_difTrans_exponential_Jarvis__timestep.nc',\n",
       " '/data/tushark/PLUMBER_data/sites/Blodgett/summa_output/Blodgett_output_difTrans_logBelowCanopy_Jarvis__timestep.nc']"
      ]
     },
     "execution_count": 75,
     "metadata": {},
     "output_type": "execute_result"
    }
   ],
   "source": [
    "file2"
   ]
  },
  {
   "cell_type": "code",
   "execution_count": 7,
   "metadata": {},
   "outputs": [],
   "source": [
    "test = xr.open_dataset('/pool0/data/tushark/PLUMBER_data/sites/Blodgett/summa_output/Blodgett_output_difTrans_logBelowCanopy_Jarvis_timestep.nc')"
   ]
  },
  {
   "cell_type": "code",
   "execution_count": 16,
   "metadata": {},
   "outputs": [
    {
     "data": {
      "text/plain": [
       "<xarray.DataArray 'pptrate' (hru: 1)>\n",
       "array([ 0.])\n",
       "Coordinates:\n",
       "    time     datetime64[ns] 2000-01-01T02:29:59.999986\n",
       "  * hru      (hru) int32 1\n",
       "Attributes:\n",
       "    long_name:  precipitation rate (instant)\n",
       "    units:      kg m-2 s-1"
      ]
     },
     "execution_count": 16,
     "metadata": {},
     "output_type": "execute_result"
    }
   ],
   "source": [
    "test['pptrate'][4]"
   ]
  },
  {
   "cell_type": "code",
   "execution_count": null,
   "metadata": {},
   "outputs": [],
   "source": []
  }
 ],
 "metadata": {
  "kernelspec": {
   "display_name": "default",
   "language": "python",
   "name": "default"
  },
  "language_info": {
   "codemirror_mode": {
    "name": "ipython",
    "version": 3
   },
   "file_extension": ".py",
   "mimetype": "text/x-python",
   "name": "python",
   "nbconvert_exporter": "python",
   "pygments_lexer": "ipython3",
   "version": "3.6.4"
  }
 },
 "nbformat": 4,
 "nbformat_minor": 2
}
